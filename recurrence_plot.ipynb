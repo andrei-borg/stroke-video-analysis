{
 "cells": [
  {
   "cell_type": "code",
   "execution_count": 7,
   "metadata": {},
   "outputs": [],
   "source": [
    "import numpy as np\n",
    "import os\n",
    "import pandas as pd\n",
    "import cv2\n",
    "import mediapipe\n",
    "import time\n",
    "import random\n",
    "from PIL import Image\n",
    "from sklearn.utils import class_weight\n",
    "import tensorflow as tf\n",
    "from keras.applications.resnet import ResNet152, ResNet50, ResNet101\n",
    "from keras.models import Model\n",
    "from sklearn.utils import shuffle\n",
    "from sklearn.preprocessing import MinMaxScaler\n",
    "from sklearn import decomposition, svm\n",
    "from sklearn.model_selection import train_test_split\n",
    "from keras.models import Sequential\n",
    "from keras.wrappers.scikit_learn import KerasClassifier\n",
    "from keras.layers import (\n",
    "    Conv2D,\n",
    "    MaxPool2D,\n",
    "    Flatten,\n",
    "    Dense,\n",
    "    InputLayer,\n",
    "    Activation,\n",
    "    BatchNormalization,\n",
    "    GlobalAveragePooling2D,\n",
    "    Dropout,\n",
    "    RandomFourierFeatures,\n",
    "    Input,\n",
    ")\n",
    "from keras.optimizers import Adam, SGD\n",
    "from keras.metrics import categorical_crossentropy\n",
    "from keras.preprocessing.image import ImageDataGenerator\n",
    "import matplotlib.pyplot as plt\n",
    "from sklearn.metrics import confusion_matrix, classification_report, accuracy_score\n",
    "import itertools\n",
    "import matplotlib.pyplot as plt\n",
    "from sklearn.model_selection import GridSearchCV\n",
    "from keras.preprocessing import image"
   ]
  },
  {
   "attachments": {},
   "cell_type": "markdown",
   "metadata": {},
   "source": [
    "# Functions and gridsearch"
   ]
  },
  {
   "cell_type": "code",
   "execution_count": 25,
   "metadata": {},
   "outputs": [],
   "source": [
    "def plot_confusion_matrix(\n",
    "    cm, classes, normalize=False, title=\"Confusion matrix\", cmap=plt.cm.Blues\n",
    "):\n",
    "    \"\"\"\n",
    "    This function prints and plots the confusion matrix.\n",
    "    Normalization can be applied by setting `normalize=True`.\n",
    "    \"\"\"\n",
    "    plt.imshow(cm, interpolation=\"nearest\", cmap=cmap)\n",
    "    plt.title(title)\n",
    "    plt.colorbar()\n",
    "    tick_marks = np.arange(len(classes))\n",
    "    plt.xticks(tick_marks, classes, rotation=45)\n",
    "    plt.yticks(tick_marks, classes)\n",
    "\n",
    "    if normalize:\n",
    "        cm = cm.astype(\"float\") / cm.sum(axis=1)[:, np.newaxis]\n",
    "        print(\"Normalized confusion matrix\")\n",
    "    else:\n",
    "        print(\"Confusion matrix, without normalization\")\n",
    "\n",
    "    print(cm)\n",
    "\n",
    "    thresh = cm.max() / 2.0\n",
    "    for i, j in itertools.product(range(cm.shape[0]), range(cm.shape[1])):\n",
    "        plt.text(\n",
    "            j,\n",
    "            i,\n",
    "            cm[i, j],\n",
    "            horizontalalignment=\"center\",\n",
    "            color=\"white\" if cm[i, j] > thresh else \"black\",\n",
    "        )\n",
    "\n",
    "    plt.tight_layout()\n",
    "    plt.ylabel(\"True label\")\n",
    "    plt.xlabel(\"Predicted label\")\n",
    "    plt.show()\n",
    "\n",
    "input_shape = (465, 930, 3) # mouth\n",
    "\n",
    "# Define hyperparameters and their values for GridSearch\n",
    "param_grid = {\n",
    "    'learning_rate': [0.0001, 0.001],\n",
    "    'hidden_layers': [1, 2],\n",
    "}\n",
    "\n",
    "combinations = [[0,0], [0,1], [1,0], [1,1]]\n",
    "\n",
    "# Define hyperparameters and their values for GridSearch\n",
    "param_grid2 = {\n",
    "    'learning_rate': [0.0001, 0.001],\n",
    "    'dropout_rate':  [0, 0.2],\n",
    "    'hidden_layers': [1, 2],\n",
    "}\n",
    "\n",
    "combinations2 = [[0,0,0], [0,0,1], [0,1,0], [0,1,1], [1,0,0], [1,0,1], [1,1,0], [1,1,1]]\n",
    "\n",
    "param_grid3 = {\n",
    "    'conv_layers': [2, 3],\n",
    "    #'dense_layers':  [1, 2],\n",
    "    'epochs': [5, 10, 20],\n",
    "}\n",
    "\n",
    "combinations3 = [[0,0], [0,1], [0,2], [1,0], [1,1], [1,2]]"
   ]
  },
  {
   "attachments": {},
   "cell_type": "markdown",
   "metadata": {},
   "source": [
    "# Preprocessing data"
   ]
  },
  {
   "attachments": {},
   "cell_type": "markdown",
   "metadata": {},
   "source": [
    "### Batches:"
   ]
  },
  {
   "cell_type": "code",
   "execution_count": 27,
   "metadata": {},
   "outputs": [
    {
     "name": "stdout",
     "output_type": "stream",
     "text": [
      "Found 3062 images belonging to 2 classes.\n",
      "Found 507 images belonging to 2 classes.\n",
      "Found 17 images belonging to 2 classes.\n"
     ]
    }
   ],
   "source": [
    "train_path = \"D:\\\\Kandidatarbete\\\\rp_eyes\\\\train\"\n",
    "valid_path = \"D:\\\\Kandidatarbete\\\\rp_eyes\\\\valid\"\n",
    "test_path = \"D:\\\\Kandidatarbete\\\\rp_eyes\\\\test\"\n",
    "\n",
    "# Define image size and number of channels\n",
    "\n",
    "# Mouth\n",
    "img_height = 465\n",
    "img_width = 930\n",
    "\n",
    "# Eyes\n",
    "img_height_eyes = 348\n",
    "img_width_eyes = 697\n",
    "\n",
    "# Change preprocess_input to the corresponding classifier (vgg16, resnet etc.)\n",
    "train_batches = ImageDataGenerator(\n",
    "    tf.keras.applications.vgg16.preprocess_input\n",
    ").flow_from_directory(\n",
    "    directory=train_path,\n",
    "    target_size=(img_height, img_width),\n",
    "    classes=[\"normal\", \"stroke\"],\n",
    "    batch_size=8,\n",
    ")\n",
    "\n",
    "valid_batches = ImageDataGenerator(\n",
    "    tf.keras.applications.vgg16.preprocess_input\n",
    ").flow_from_directory(\n",
    "    directory=valid_path,\n",
    "    target_size=(img_height, img_width),\n",
    "    classes=[\"normal\", \"stroke\"],\n",
    "    batch_size=8,\n",
    ")\n",
    "test_batches = ImageDataGenerator(\n",
    "    tf.keras.applications.vgg16.preprocess_input\n",
    ").flow_from_directory(\n",
    "    directory=test_path,\n",
    "    target_size=(img_height, img_width),\n",
    "    classes=[\"normal\", \"stroke\"],\n",
    "    batch_size=8,\n",
    "    shuffle=False,\n",
    ")"
   ]
  },
  {
   "attachments": {},
   "cell_type": "markdown",
   "metadata": {},
   "source": [
    "# DNN"
   ]
  },
  {
   "cell_type": "code",
   "execution_count": 25,
   "metadata": {},
   "outputs": [
    {
     "name": "stdout",
     "output_type": "stream",
     "text": [
      "Epoch 1/15\n"
     ]
    },
    {
     "name": "stderr",
     "output_type": "stream",
     "text": [
      "c:\\Users\\AndreiBorg\\anaconda3\\envs\\tf\\lib\\site-packages\\keras\\preprocessing\\image.py:1863: UserWarning: This ImageDataGenerator specifies `featurewise_center`, but it hasn't been fit on any training data. Fit it first by calling `.fit(numpy_data)`.\n",
      "  warnings.warn(\n"
     ]
    },
    {
     "name": "stdout",
     "output_type": "stream",
     "text": [
      "192/192 - 17s - loss: 110.7600 - accuracy: 0.5601 - val_loss: 120.8175 - val_accuracy: 0.5483 - 17s/epoch - 89ms/step\n",
      "Epoch 2/15\n",
      "192/192 - 16s - loss: 37.0958 - accuracy: 0.7587 - val_loss: 120.5916 - val_accuracy: 0.5168 - 16s/epoch - 85ms/step\n",
      "Epoch 3/15\n",
      "192/192 - 17s - loss: 28.0880 - accuracy: 0.8142 - val_loss: 99.6680 - val_accuracy: 0.5306 - 17s/epoch - 86ms/step\n",
      "Epoch 4/15\n",
      "192/192 - 16s - loss: 18.1097 - accuracy: 0.8821 - val_loss: 104.9292 - val_accuracy: 0.5404 - 16s/epoch - 85ms/step\n",
      "Epoch 5/15\n",
      "192/192 - 16s - loss: 13.3838 - accuracy: 0.8988 - val_loss: 93.7079 - val_accuracy: 0.5759 - 16s/epoch - 85ms/step\n",
      "Epoch 6/15\n",
      "192/192 - 17s - loss: 9.6797 - accuracy: 0.9242 - val_loss: 107.2478 - val_accuracy: 0.5187 - 17s/epoch - 86ms/step\n",
      "Epoch 7/15\n",
      "192/192 - 17s - loss: 10.8236 - accuracy: 0.9210 - val_loss: 116.0054 - val_accuracy: 0.5404 - 17s/epoch - 87ms/step\n",
      "Epoch 8/15\n",
      "192/192 - 16s - loss: 6.6087 - accuracy: 0.9448 - val_loss: 167.5210 - val_accuracy: 0.5187 - 16s/epoch - 85ms/step\n",
      "Epoch 9/15\n",
      "192/192 - 17s - loss: 7.0996 - accuracy: 0.9461 - val_loss: 134.8283 - val_accuracy: 0.5207 - 17s/epoch - 88ms/step\n",
      "Epoch 10/15\n",
      "192/192 - 17s - loss: 6.2962 - accuracy: 0.9526 - val_loss: 136.9778 - val_accuracy: 0.5286 - 17s/epoch - 87ms/step\n",
      "Epoch 11/15\n",
      "192/192 - 16s - loss: 4.2721 - accuracy: 0.9615 - val_loss: 119.7637 - val_accuracy: 0.5799 - 16s/epoch - 85ms/step\n",
      "Epoch 12/15\n",
      "192/192 - 16s - loss: 13.1905 - accuracy: 0.9229 - val_loss: 249.1035 - val_accuracy: 0.4911 - 16s/epoch - 85ms/step\n",
      "Epoch 13/15\n",
      "192/192 - 16s - loss: 7.7281 - accuracy: 0.9491 - val_loss: 146.8583 - val_accuracy: 0.5365 - 16s/epoch - 85ms/step\n",
      "Epoch 14/15\n",
      "192/192 - 16s - loss: 6.0173 - accuracy: 0.9556 - val_loss: 166.3062 - val_accuracy: 0.5345 - 16s/epoch - 85ms/step\n",
      "Epoch 15/15\n",
      "192/192 - 16s - loss: 2.1732 - accuracy: 0.9820 - val_loss: 155.0839 - val_accuracy: 0.5523 - 16s/epoch - 85ms/step\n",
      "Test loss: 146.415283203125, Test accuracy 0.7058823704719543\n"
     ]
    }
   ],
   "source": [
    "model_DNN = Sequential()\n",
    "model_DNN.add(Flatten())\n",
    "model_DNN.add(Dense(64, activation=\"relu\", input_shape=input_shape))\n",
    "model_DNN.add(Dense(64, activation=\"relu\"))\n",
    "model_DNN.add(Dense(units=2, activation=\"softmax\"))\n",
    "\n",
    "model_DNN.compile(optimizer=Adam(0.0001),\n",
    "              loss=\"categorical_crossentropy\",\n",
    "              metrics=[\"accuracy\"])\n",
    "\n",
    "model_DNN.fit(x=train_batches, validation_data=valid_batches, epochs=15, verbose=2)\n",
    "score = model_DNN.evaluate(test_batches, verbose=0)\n",
    "\n",
    "print(\"Test loss: {}, Test accuracy {}\".format(score[0], score[1]))"
   ]
  },
  {
   "cell_type": "code",
   "execution_count": 26,
   "metadata": {},
   "outputs": [
    {
     "name": "stdout",
     "output_type": "stream",
     "text": [
      "WARNING:tensorflow:5 out of the last 13 calls to <function Model.make_predict_function.<locals>.predict_function at 0x000002822A49FB80> triggered tf.function retracing. Tracing is expensive and the excessive number of tracings could be due to (1) creating @tf.function repeatedly in a loop, (2) passing tensors with different shapes, (3) passing Python objects instead of tensors. For (1), please define your @tf.function outside of the loop. For (2), @tf.function has reduce_retracing=True option that can avoid unnecessary retracing. For (3), please refer to https://www.tensorflow.org/guide/function#controlling_retracing and https://www.tensorflow.org/api_docs/python/tf/function for  more details.\n",
      "Sensitivity: 1.0\n",
      "Specificity: 0.375\n",
      "Confusion matrix, without normalization\n",
      "[[3 5]\n",
      " [0 9]]\n"
     ]
    },
    {
     "data": {
      "image/png": "[encoded data removed]",
      "text/plain": [
       "<Figure size 640x480 with 2 Axes>"
      ]
     },
     "metadata": {},
     "output_type": "display_data"
    },
    {
     "name": "stdout",
     "output_type": "stream",
     "text": [
      "Test loss: 146.415283203125, Test accuracy 0.7058823704719543\n"
     ]
    }
   ],
   "source": [
    "predictions = model_DNN.predict(x=test_batches, verbose=0)\n",
    "\n",
    "np.round(predictions)\n",
    "\n",
    "cm = confusion_matrix(\n",
    "    y_true=test_batches.classes, y_pred=np.argmax(predictions, axis=-1)\n",
    ")\n",
    "\n",
    "# extract true positives, false positives, true negatives, and false negatives\n",
    "tn, fp, fn, tp = cm.ravel()\n",
    "\n",
    "# calculate sensitivity and specificity\n",
    "sensitivity = tp / (tp + fn)\n",
    "specificity = tn / (tn + fp)\n",
    "\n",
    "print(\"Sensitivity:\", sensitivity)\n",
    "print(\"Specificity:\", specificity)\n",
    "\n",
    "cm_plot_labels = [\"normal\", \"stroke\"]\n",
    "plot_confusion_matrix(cm=cm, classes=cm_plot_labels, title=\"Confusion Matrix\")\n",
    "\n",
    "print(\"Test loss: {}, Test accuracy {}\".format(score[0], score[1]))"
   ]
  },
  {
   "attachments": {},
   "cell_type": "markdown",
   "metadata": {},
   "source": [
    "# CNN (mouth)"
   ]
  },
  {
   "cell_type": "code",
   "execution_count": 5,
   "metadata": {},
   "outputs": [
    {
     "name": "stdout",
     "output_type": "stream",
     "text": [
      "Model: \"sequential\"\n",
      "_________________________________________________________________\n",
      " Layer (type)                Output Shape              Param #   \n",
      "=================================================================\n",
      " conv2d (Conv2D)             (None, 465, 930, 256)     27904     \n",
      "                                                                 \n",
      " max_pooling2d (MaxPooling2D  (None, 116, 232, 256)    0         \n",
      " )                                                               \n",
      "                                                                 \n",
      " conv2d_1 (Conv2D)           (None, 116, 232, 512)     10617344  \n",
      "                                                                 \n",
      " max_pooling2d_1 (MaxPooling  (None, 29, 58, 512)      0         \n",
      " 2D)                                                             \n",
      "                                                                 \n",
      " conv2d_2 (Conv2D)           (None, 29, 58, 512)       21234176  \n",
      "                                                                 \n",
      " max_pooling2d_2 (MaxPooling  (None, 7, 14, 512)       0         \n",
      " 2D)                                                             \n",
      "                                                                 \n",
      " flatten (Flatten)           (None, 50176)             0         \n",
      "                                                                 \n",
      " dense (Dense)               (None, 512)               25690624  \n",
      "                                                                 \n",
      " dense_1 (Dense)             (None, 2)                 1026      \n",
      "                                                                 \n",
      "=================================================================\n",
      "Total params: 57,571,074\n",
      "Trainable params: 57,571,074\n",
      "Non-trainable params: 0\n",
      "_________________________________________________________________\n",
      "Epoch 1/8\n"
     ]
    },
    {
     "name": "stderr",
     "output_type": "stream",
     "text": [
      "c:\\Users\\AndreiBorg\\anaconda3\\envs\\tf\\lib\\site-packages\\keras\\preprocessing\\image.py:1863: UserWarning: This ImageDataGenerator specifies `featurewise_center`, but it hasn't been fit on any training data. Fit it first by calling `.fit(numpy_data)`.\n",
      "  warnings.warn(\n"
     ]
    },
    {
     "name": "stdout",
     "output_type": "stream",
     "text": [
      "443/443 - 1444s - loss: 3.1695 - accuracy: 0.8906 - val_loss: 0.6054 - val_accuracy: 0.7829 - 1444s/epoch - 3s/step\n",
      "Epoch 2/8\n",
      "443/443 - 809s - loss: 0.0453 - accuracy: 0.9830 - val_loss: 0.6891 - val_accuracy: 0.8222 - 809s/epoch - 2s/step\n",
      "Epoch 3/8\n",
      "443/443 - 841s - loss: 0.0311 - accuracy: 0.9912 - val_loss: 0.6733 - val_accuracy: 0.8889 - 841s/epoch - 2s/step\n",
      "Epoch 4/8\n",
      "443/443 - 823s - loss: 0.0958 - accuracy: 0.9785 - val_loss: 0.6227 - val_accuracy: 0.8615 - 823s/epoch - 2s/step\n",
      "Epoch 5/8\n",
      "443/443 - 843s - loss: 0.0066 - accuracy: 0.9983 - val_loss: 0.8061 - val_accuracy: 0.8923 - 843s/epoch - 2s/step\n",
      "Epoch 6/8\n",
      "443/443 - 827s - loss: 2.8526e-04 - accuracy: 1.0000 - val_loss: 1.1431 - val_accuracy: 0.8769 - 827s/epoch - 2s/step\n",
      "Epoch 7/8\n",
      "443/443 - 816s - loss: 3.6054e-05 - accuracy: 1.0000 - val_loss: 1.0047 - val_accuracy: 0.8786 - 816s/epoch - 2s/step\n",
      "Epoch 8/8\n",
      "443/443 - 809s - loss: 5.3327e-06 - accuracy: 1.0000 - val_loss: 1.0253 - val_accuracy: 0.8803 - 809s/epoch - 2s/step\n",
      "Test loss: 1.254118800163269, Test accuracy 0.843137264251709\n"
     ]
    }
   ],
   "source": [
    "#scores_customCNN = []\n",
    "#models_customCNN = []\n",
    "\n",
    "lr = 0.0001\n",
    "\n",
    "#conv_layers = param_grid3[\"conv_layers\"][i[0]]\n",
    "#dense_layers = param_grid3[\"dense_layers\"][i[1]]\n",
    "#epochs = param_grid3[\"epochs\"][i[1]]\n",
    "#print(\"Dense layers:\", dense_layers)\n",
    "\n",
    "model_customCNN = Sequential()\n",
    "model_customCNN.add(Conv2D(\n",
    "        filters=256,\n",
    "        kernel_size=(6, 6),\n",
    "        activation=\"relu\",\n",
    "        padding=\"same\",\n",
    "        input_shape=(img_height, img_width, 3),\n",
    "    ))\n",
    "model_customCNN.add(MaxPool2D(pool_size=(4, 4), strides=4))\n",
    "\n",
    "model_customCNN.add(Conv2D(filters=512, kernel_size=(9, 9), activation=\"relu\", padding=\"same\"))\n",
    "model_customCNN.add(MaxPool2D(pool_size=(4, 4), strides=4))\n",
    "model_customCNN.add(Conv2D(filters=512, kernel_size=(9, 9), activation=\"relu\", padding=\"same\"))\n",
    "model_customCNN.add(MaxPool2D(pool_size=(4, 4), strides=4))\n",
    "\n",
    "model_customCNN.add(Flatten())\n",
    "model_customCNN.add(Dense(512, activation=\"relu\"))\n",
    "model_customCNN.add(Dense(units=2, activation=\"softmax\"))\n",
    "\n",
    "#model_customCNN.summary()\n",
    "\n",
    "model_customCNN.compile(\n",
    "    optimizer=Adam(learning_rate=lr),\n",
    "    loss=\"categorical_crossentropy\",\n",
    "    metrics=[\"accuracy\"],\n",
    ")\n",
    "model_customCNN.fit(x=train_batches, validation_data=valid_batches, epochs=8, verbose=2)\n",
    "# Save the weights\n",
    "model_customCNN.save_weights('mouth_weights.h5')\n",
    "score = model_customCNN.evaluate(test_batches, verbose=0)\n",
    "\n",
    "print(\"Test loss: {}, Test accuracy {}\".format(score[0], score[1]))"
   ]
  },
  {
   "cell_type": "code",
   "execution_count": 6,
   "metadata": {},
   "outputs": [
    {
     "name": "stdout",
     "output_type": "stream",
     "text": [
      "Sensitivity: 0.9615384615384616\n",
      "Specificity: 0.72\n",
      "Confusion matrix, without normalization\n",
      "[[18  7]\n",
      " [ 1 25]]\n"
     ]
    },
    {
     "data": {
      "image/png": "[encoded data removed]",
      "text/plain": [
       "<Figure size 640x480 with 2 Axes>"
      ]
     },
     "metadata": {},
     "output_type": "display_data"
    },
    {
     "name": "stdout",
     "output_type": "stream",
     "text": [
      "Test loss: 1.254118800163269, Test accuracy 0.843137264251709\n"
     ]
    }
   ],
   "source": [
    "predictions = model_customCNN.predict(x=test_batches, verbose=0)\n",
    "\n",
    "np.round(predictions)\n",
    "\n",
    "cm = confusion_matrix(\n",
    "    y_true=test_batches.classes, y_pred=np.argmax(predictions, axis=-1)\n",
    ")\n",
    "\n",
    "# extract true positives, false positives, true negatives, and false negatives\n",
    "tn, fp, fn, tp = cm.ravel()\n",
    "\n",
    "# calculate sensitivity and specificity\n",
    "sensitivity = tp / (tp + fn)\n",
    "specificity = tn / (tn + fp)\n",
    "\n",
    "print(\"Sensitivity:\", sensitivity)\n",
    "print(\"Specificity:\", specificity)\n",
    "\n",
    "cm_plot_labels = [\"normal\", \"stroke\"]\n",
    "plot_confusion_matrix(cm=cm, classes=cm_plot_labels, title=\"Confusion Matrix\")\n",
    "\n",
    "print(\"Test loss: {}, Test accuracy {}\".format(score[0], score[1]))"
   ]
  },
  {
   "attachments": {},
   "cell_type": "markdown",
   "metadata": {},
   "source": [
    "# CNN (eyes)"
   ]
  },
  {
   "cell_type": "code",
   "execution_count": 28,
   "metadata": {},
   "outputs": [
    {
     "name": "stdout",
     "output_type": "stream",
     "text": [
      "Epoch 1/8\n"
     ]
    },
    {
     "name": "stderr",
     "output_type": "stream",
     "text": [
      "c:\\Users\\AndreiBorg\\anaconda3\\envs\\tf\\lib\\site-packages\\keras\\preprocessing\\image.py:1863: UserWarning: This ImageDataGenerator specifies `featurewise_center`, but it hasn't been fit on any training data. Fit it first by calling `.fit(numpy_data)`.\n",
      "  warnings.warn(\n"
     ]
    },
    {
     "ename": "ResourceExhaustedError",
     "evalue": "Graph execution error:\n\nDetected at node 'sequential_18/conv2d_54/Relu' defined at (most recent call last):\n    File \"c:\\Users\\AndreiBorg\\anaconda3\\envs\\tf\\lib\\runpy.py\", line 194, in _run_module_as_main\n      return _run_code(code, main_globals, None,\n    File \"c:\\Users\\AndreiBorg\\anaconda3\\envs\\tf\\lib\\runpy.py\", line 87, in _run_code\n      exec(code, run_globals)\n    File \"c:\\Users\\AndreiBorg\\anaconda3\\envs\\tf\\lib\\site-packages\\ipykernel_launcher.py\", line 17, in <module>\n      app.launch_new_instance()\n    File \"c:\\Users\\AndreiBorg\\anaconda3\\envs\\tf\\lib\\site-packages\\traitlets\\config\\application.py\", line 1043, in launch_instance\n      app.start()\n    File \"c:\\Users\\AndreiBorg\\anaconda3\\envs\\tf\\lib\\site-packages\\ipykernel\\kernelapp.py\", line 725, in start\n      self.io_loop.start()\n    File \"c:\\Users\\AndreiBorg\\anaconda3\\envs\\tf\\lib\\site-packages\\tornado\\platform\\asyncio.py\", line 215, in start\n      self.asyncio_loop.run_forever()\n    File \"c:\\Users\\AndreiBorg\\anaconda3\\envs\\tf\\lib\\asyncio\\base_events.py\", line 570, in run_forever\n      self._run_once()\n    File \"c:\\Users\\AndreiBorg\\anaconda3\\envs\\tf\\lib\\asyncio\\base_events.py\", line 1859, in _run_once\n      handle._run()\n    File \"c:\\Users\\AndreiBorg\\anaconda3\\envs\\tf\\lib\\asyncio\\events.py\", line 81, in _run\n      self._context.run(self._callback, *self._args)\n    File \"c:\\Users\\AndreiBorg\\anaconda3\\envs\\tf\\lib\\site-packages\\ipykernel\\kernelbase.py\", line 513, in dispatch_queue\n      await self.process_one()\n    File \"c:\\Users\\AndreiBorg\\anaconda3\\envs\\tf\\lib\\site-packages\\ipykernel\\kernelbase.py\", line 502, in process_one\n      await dispatch(*args)\n    File \"c:\\Users\\AndreiBorg\\anaconda3\\envs\\tf\\lib\\site-packages\\ipykernel\\kernelbase.py\", line 409, in dispatch_shell\n      await result\n    File \"c:\\Users\\AndreiBorg\\anaconda3\\envs\\tf\\lib\\site-packages\\ipykernel\\kernelbase.py\", line 729, in execute_request\n      reply_content = await reply_content\n    File \"c:\\Users\\AndreiBorg\\anaconda3\\envs\\tf\\lib\\site-packages\\ipykernel\\ipkernel.py\", line 422, in do_execute\n      res = shell.run_cell(\n    File \"c:\\Users\\AndreiBorg\\anaconda3\\envs\\tf\\lib\\site-packages\\ipykernel\\zmqshell.py\", line 540, in run_cell\n      return super().run_cell(*args, **kwargs)\n    File \"c:\\Users\\AndreiBorg\\anaconda3\\envs\\tf\\lib\\site-packages\\IPython\\core\\interactiveshell.py\", line 3006, in run_cell\n      result = self._run_cell(\n    File \"c:\\Users\\AndreiBorg\\anaconda3\\envs\\tf\\lib\\site-packages\\IPython\\core\\interactiveshell.py\", line 3061, in _run_cell\n      result = runner(coro)\n    File \"c:\\Users\\AndreiBorg\\anaconda3\\envs\\tf\\lib\\site-packages\\IPython\\core\\async_helpers.py\", line 129, in _pseudo_sync_runner\n      coro.send(None)\n    File \"c:\\Users\\AndreiBorg\\anaconda3\\envs\\tf\\lib\\site-packages\\IPython\\core\\interactiveshell.py\", line 3266, in run_cell_async\n      has_raised = await self.run_ast_nodes(code_ast.body, cell_name,\n    File \"c:\\Users\\AndreiBorg\\anaconda3\\envs\\tf\\lib\\site-packages\\IPython\\core\\interactiveshell.py\", line 3445, in run_ast_nodes\n      if await self.run_code(code, result, async_=asy):\n    File \"c:\\Users\\AndreiBorg\\anaconda3\\envs\\tf\\lib\\site-packages\\IPython\\core\\interactiveshell.py\", line 3505, in run_code\n      exec(code_obj, self.user_global_ns, self.user_ns)\n    File \"C:\\Users\\AndreiBorg\\AppData\\Local\\Temp\\ipykernel_3852\\437284506.py\", line 37, in <module>\n      model_customCNN2.fit(x=train_batches, validation_data=valid_batches, epochs=8, verbose=2)\n    File \"c:\\Users\\AndreiBorg\\anaconda3\\envs\\tf\\lib\\site-packages\\keras\\utils\\traceback_utils.py\", line 65, in error_handler\n      return fn(*args, **kwargs)\n    File \"c:\\Users\\AndreiBorg\\anaconda3\\envs\\tf\\lib\\site-packages\\keras\\engine\\training.py\", line 1564, in fit\n      tmp_logs = self.train_function(iterator)\n    File \"c:\\Users\\AndreiBorg\\anaconda3\\envs\\tf\\lib\\site-packages\\keras\\engine\\training.py\", line 1160, in train_function\n      return step_function(self, iterator)\n    File \"c:\\Users\\AndreiBorg\\anaconda3\\envs\\tf\\lib\\site-packages\\keras\\engine\\training.py\", line 1146, in step_function\n      outputs = model.distribute_strategy.run(run_step, args=(data,))\n    File \"c:\\Users\\AndreiBorg\\anaconda3\\envs\\tf\\lib\\site-packages\\keras\\engine\\training.py\", line 1135, in run_step\n      outputs = model.train_step(data)\n    File \"c:\\Users\\AndreiBorg\\anaconda3\\envs\\tf\\lib\\site-packages\\keras\\engine\\training.py\", line 993, in train_step\n      y_pred = self(x, training=True)\n    File \"c:\\Users\\AndreiBorg\\anaconda3\\envs\\tf\\lib\\site-packages\\keras\\utils\\traceback_utils.py\", line 65, in error_handler\n      return fn(*args, **kwargs)\n    File \"c:\\Users\\AndreiBorg\\anaconda3\\envs\\tf\\lib\\site-packages\\keras\\engine\\training.py\", line 557, in __call__\n      return super().__call__(*args, **kwargs)\n    File \"c:\\Users\\AndreiBorg\\anaconda3\\envs\\tf\\lib\\site-packages\\keras\\utils\\traceback_utils.py\", line 65, in error_handler\n      return fn(*args, **kwargs)\n    File \"c:\\Users\\AndreiBorg\\anaconda3\\envs\\tf\\lib\\site-packages\\keras\\engine\\base_layer.py\", line 1097, in __call__\n      outputs = call_fn(inputs, *args, **kwargs)\n    File \"c:\\Users\\AndreiBorg\\anaconda3\\envs\\tf\\lib\\site-packages\\keras\\utils\\traceback_utils.py\", line 96, in error_handler\n      return fn(*args, **kwargs)\n    File \"c:\\Users\\AndreiBorg\\anaconda3\\envs\\tf\\lib\\site-packages\\keras\\engine\\sequential.py\", line 410, in call\n      return super().call(inputs, training=training, mask=mask)\n    File \"c:\\Users\\AndreiBorg\\anaconda3\\envs\\tf\\lib\\site-packages\\keras\\engine\\functional.py\", line 510, in call\n      return self._run_internal_graph(inputs, training=training, mask=mask)\n    File \"c:\\Users\\AndreiBorg\\anaconda3\\envs\\tf\\lib\\site-packages\\keras\\engine\\functional.py\", line 667, in _run_internal_graph\n      outputs = node.layer(*args, **kwargs)\n    File \"c:\\Users\\AndreiBorg\\anaconda3\\envs\\tf\\lib\\site-packages\\keras\\utils\\traceback_utils.py\", line 65, in error_handler\n      return fn(*args, **kwargs)\n    File \"c:\\Users\\AndreiBorg\\anaconda3\\envs\\tf\\lib\\site-packages\\keras\\engine\\base_layer.py\", line 1097, in __call__\n      outputs = call_fn(inputs, *args, **kwargs)\n    File \"c:\\Users\\AndreiBorg\\anaconda3\\envs\\tf\\lib\\site-packages\\keras\\utils\\traceback_utils.py\", line 96, in error_handler\n      return fn(*args, **kwargs)\n    File \"c:\\Users\\AndreiBorg\\anaconda3\\envs\\tf\\lib\\site-packages\\keras\\layers\\convolutional\\base_conv.py\", line 314, in call\n      return self.activation(outputs)\n    File \"c:\\Users\\AndreiBorg\\anaconda3\\envs\\tf\\lib\\site-packages\\keras\\activations.py\", line 317, in relu\n      return backend.relu(\n    File \"c:\\Users\\AndreiBorg\\anaconda3\\envs\\tf\\lib\\site-packages\\keras\\backend.py\", line 5366, in relu\n      x = tf.nn.relu(x)\nNode: 'sequential_18/conv2d_54/Relu'\nOOM when allocating tensor with shape[8,256,465,930] and type float on /job:localhost/replica:0/task:0/device:GPU:0 by allocator GPU_0_bfc\n\t [[{{node sequential_18/conv2d_54/Relu}}]]\nHint: If you want to see a list of allocated tensors when OOM happens, add report_tensor_allocations_upon_oom to RunOptions for current allocation info. This isn't available when running in Eager mode.\n [Op:__inference_train_function_23191]",
     "output_type": "error",
     "traceback": [
      "\u001b[1;31m---------------------------------------------------------------------------\u001b[0m",
      "\u001b[1;31mResourceExhaustedError\u001b[0m                    Traceback (most recent call last)",
      "Cell \u001b[1;32mIn[28], line 37\u001b[0m\n\u001b[0;32m     30\u001b[0m \u001b[39m#model_customCNN2.summary()\u001b[39;00m\n\u001b[0;32m     32\u001b[0m model_customCNN2\u001b[39m.\u001b[39mcompile(\n\u001b[0;32m     33\u001b[0m     optimizer\u001b[39m=\u001b[39mAdam(learning_rate\u001b[39m=\u001b[39mlr),\n\u001b[0;32m     34\u001b[0m     loss\u001b[39m=\u001b[39m\u001b[39m\"\u001b[39m\u001b[39mcategorical_crossentropy\u001b[39m\u001b[39m\"\u001b[39m,\n\u001b[0;32m     35\u001b[0m     metrics\u001b[39m=\u001b[39m[\u001b[39m\"\u001b[39m\u001b[39maccuracy\u001b[39m\u001b[39m\"\u001b[39m],\n\u001b[0;32m     36\u001b[0m )\n\u001b[1;32m---> 37\u001b[0m model_customCNN2\u001b[39m.\u001b[39;49mfit(x\u001b[39m=\u001b[39;49mtrain_batches, validation_data\u001b[39m=\u001b[39;49mvalid_batches, epochs\u001b[39m=\u001b[39;49m\u001b[39m8\u001b[39;49m, verbose\u001b[39m=\u001b[39;49m\u001b[39m2\u001b[39;49m)\n\u001b[0;32m     39\u001b[0m \u001b[39m# Save the weights\u001b[39;00m\n\u001b[0;32m     40\u001b[0m model_customCNN2\u001b[39m.\u001b[39msave_weights(\u001b[39m'\u001b[39m\u001b[39meyes_weights.h5\u001b[39m\u001b[39m'\u001b[39m)\n",
      "File \u001b[1;32mc:\\Users\\AndreiBorg\\anaconda3\\envs\\tf\\lib\\site-packages\\keras\\utils\\traceback_utils.py:70\u001b[0m, in \u001b[0;36mfilter_traceback.<locals>.error_handler\u001b[1;34m(*args, **kwargs)\u001b[0m\n\u001b[0;32m     67\u001b[0m     filtered_tb \u001b[39m=\u001b[39m _process_traceback_frames(e\u001b[39m.\u001b[39m__traceback__)\n\u001b[0;32m     68\u001b[0m     \u001b[39m# To get the full stack trace, call:\u001b[39;00m\n\u001b[0;32m     69\u001b[0m     \u001b[39m# `tf.debugging.disable_traceback_filtering()`\u001b[39;00m\n\u001b[1;32m---> 70\u001b[0m     \u001b[39mraise\u001b[39;00m e\u001b[39m.\u001b[39mwith_traceback(filtered_tb) \u001b[39mfrom\u001b[39;00m \u001b[39mNone\u001b[39;00m\n\u001b[0;32m     71\u001b[0m \u001b[39mfinally\u001b[39;00m:\n\u001b[0;32m     72\u001b[0m     \u001b[39mdel\u001b[39;00m filtered_tb\n",
      "File \u001b[1;32mc:\\Users\\AndreiBorg\\anaconda3\\envs\\tf\\lib\\site-packages\\tensorflow\\python\\eager\\execute.py:54\u001b[0m, in \u001b[0;36mquick_execute\u001b[1;34m(op_name, num_outputs, inputs, attrs, ctx, name)\u001b[0m\n\u001b[0;32m     52\u001b[0m \u001b[39mtry\u001b[39;00m:\n\u001b[0;32m     53\u001b[0m   ctx\u001b[39m.\u001b[39mensure_initialized()\n\u001b[1;32m---> 54\u001b[0m   tensors \u001b[39m=\u001b[39m pywrap_tfe\u001b[39m.\u001b[39mTFE_Py_Execute(ctx\u001b[39m.\u001b[39m_handle, device_name, op_name,\n\u001b[0;32m     55\u001b[0m                                       inputs, attrs, num_outputs)\n\u001b[0;32m     56\u001b[0m \u001b[39mexcept\u001b[39;00m core\u001b[39m.\u001b[39m_NotOkStatusException \u001b[39mas\u001b[39;00m e:\n\u001b[0;32m     57\u001b[0m   \u001b[39mif\u001b[39;00m name \u001b[39mis\u001b[39;00m \u001b[39mnot\u001b[39;00m \u001b[39mNone\u001b[39;00m:\n",
      "\u001b[1;31mResourceExhaustedError\u001b[0m: Graph execution error:\n\nDetected at node 'sequential_18/conv2d_54/Relu' defined at (most recent call last):\n    File \"c:\\Users\\AndreiBorg\\anaconda3\\envs\\tf\\lib\\runpy.py\", line 194, in _run_module_as_main\n      return _run_code(code, main_globals, None,\n    File \"c:\\Users\\AndreiBorg\\anaconda3\\envs\\tf\\lib\\runpy.py\", line 87, in _run_code\n      exec(code, run_globals)\n    File \"c:\\Users\\AndreiBorg\\anaconda3\\envs\\tf\\lib\\site-packages\\ipykernel_launcher.py\", line 17, in <module>\n      app.launch_new_instance()\n    File \"c:\\Users\\AndreiBorg\\anaconda3\\envs\\tf\\lib\\site-packages\\traitlets\\config\\application.py\", line 1043, in launch_instance\n      app.start()\n    File \"c:\\Users\\AndreiBorg\\anaconda3\\envs\\tf\\lib\\site-packages\\ipykernel\\kernelapp.py\", line 725, in start\n      self.io_loop.start()\n    File \"c:\\Users\\AndreiBorg\\anaconda3\\envs\\tf\\lib\\site-packages\\tornado\\platform\\asyncio.py\", line 215, in start\n      self.asyncio_loop.run_forever()\n    File \"c:\\Users\\AndreiBorg\\anaconda3\\envs\\tf\\lib\\asyncio\\base_events.py\", line 570, in run_forever\n      self._run_once()\n    File \"c:\\Users\\AndreiBorg\\anaconda3\\envs\\tf\\lib\\asyncio\\base_events.py\", line 1859, in _run_once\n      handle._run()\n    File \"c:\\Users\\AndreiBorg\\anaconda3\\envs\\tf\\lib\\asyncio\\events.py\", line 81, in _run\n      self._context.run(self._callback, *self._args)\n    File \"c:\\Users\\AndreiBorg\\anaconda3\\envs\\tf\\lib\\site-packages\\ipykernel\\kernelbase.py\", line 513, in dispatch_queue\n      await self.process_one()\n    File \"c:\\Users\\AndreiBorg\\anaconda3\\envs\\tf\\lib\\site-packages\\ipykernel\\kernelbase.py\", line 502, in process_one\n      await dispatch(*args)\n    File \"c:\\Users\\AndreiBorg\\anaconda3\\envs\\tf\\lib\\site-packages\\ipykernel\\kernelbase.py\", line 409, in dispatch_shell\n      await result\n    File \"c:\\Users\\AndreiBorg\\anaconda3\\envs\\tf\\lib\\site-packages\\ipykernel\\kernelbase.py\", line 729, in execute_request\n      reply_content = await reply_content\n    File \"c:\\Users\\AndreiBorg\\anaconda3\\envs\\tf\\lib\\site-packages\\ipykernel\\ipkernel.py\", line 422, in do_execute\n      res = shell.run_cell(\n    File \"c:\\Users\\AndreiBorg\\anaconda3\\envs\\tf\\lib\\site-packages\\ipykernel\\zmqshell.py\", line 540, in run_cell\n      return super().run_cell(*args, **kwargs)\n    File \"c:\\Users\\AndreiBorg\\anaconda3\\envs\\tf\\lib\\site-packages\\IPython\\core\\interactiveshell.py\", line 3006, in run_cell\n      result = self._run_cell(\n    File \"c:\\Users\\AndreiBorg\\anaconda3\\envs\\tf\\lib\\site-packages\\IPython\\core\\interactiveshell.py\", line 3061, in _run_cell\n      result = runner(coro)\n    File \"c:\\Users\\AndreiBorg\\anaconda3\\envs\\tf\\lib\\site-packages\\IPython\\core\\async_helpers.py\", line 129, in _pseudo_sync_runner\n      coro.send(None)\n    File \"c:\\Users\\AndreiBorg\\anaconda3\\envs\\tf\\lib\\site-packages\\IPython\\core\\interactiveshell.py\", line 3266, in run_cell_async\n      has_raised = await self.run_ast_nodes(code_ast.body, cell_name,\n    File \"c:\\Users\\AndreiBorg\\anaconda3\\envs\\tf\\lib\\site-packages\\IPython\\core\\interactiveshell.py\", line 3445, in run_ast_nodes\n      if await self.run_code(code, result, async_=asy):\n    File \"c:\\Users\\AndreiBorg\\anaconda3\\envs\\tf\\lib\\site-packages\\IPython\\core\\interactiveshell.py\", line 3505, in run_code\n      exec(code_obj, self.user_global_ns, self.user_ns)\n    File \"C:\\Users\\AndreiBorg\\AppData\\Local\\Temp\\ipykernel_3852\\437284506.py\", line 37, in <module>\n      model_customCNN2.fit(x=train_batches, validation_data=valid_batches, epochs=8, verbose=2)\n    File \"c:\\Users\\AndreiBorg\\anaconda3\\envs\\tf\\lib\\site-packages\\keras\\utils\\traceback_utils.py\", line 65, in error_handler\n      return fn(*args, **kwargs)\n    File \"c:\\Users\\AndreiBorg\\anaconda3\\envs\\tf\\lib\\site-packages\\keras\\engine\\training.py\", line 1564, in fit\n      tmp_logs = self.train_function(iterator)\n    File \"c:\\Users\\AndreiBorg\\anaconda3\\envs\\tf\\lib\\site-packages\\keras\\engine\\training.py\", line 1160, in train_function\n      return step_function(self, iterator)\n    File \"c:\\Users\\AndreiBorg\\anaconda3\\envs\\tf\\lib\\site-packages\\keras\\engine\\training.py\", line 1146, in step_function\n      outputs = model.distribute_strategy.run(run_step, args=(data,))\n    File \"c:\\Users\\AndreiBorg\\anaconda3\\envs\\tf\\lib\\site-packages\\keras\\engine\\training.py\", line 1135, in run_step\n      outputs = model.train_step(data)\n    File \"c:\\Users\\AndreiBorg\\anaconda3\\envs\\tf\\lib\\site-packages\\keras\\engine\\training.py\", line 993, in train_step\n      y_pred = self(x, training=True)\n    File \"c:\\Users\\AndreiBorg\\anaconda3\\envs\\tf\\lib\\site-packages\\keras\\utils\\traceback_utils.py\", line 65, in error_handler\n      return fn(*args, **kwargs)\n    File \"c:\\Users\\AndreiBorg\\anaconda3\\envs\\tf\\lib\\site-packages\\keras\\engine\\training.py\", line 557, in __call__\n      return super().__call__(*args, **kwargs)\n    File \"c:\\Users\\AndreiBorg\\anaconda3\\envs\\tf\\lib\\site-packages\\keras\\utils\\traceback_utils.py\", line 65, in error_handler\n      return fn(*args, **kwargs)\n    File \"c:\\Users\\AndreiBorg\\anaconda3\\envs\\tf\\lib\\site-packages\\keras\\engine\\base_layer.py\", line 1097, in __call__\n      outputs = call_fn(inputs, *args, **kwargs)\n    File \"c:\\Users\\AndreiBorg\\anaconda3\\envs\\tf\\lib\\site-packages\\keras\\utils\\traceback_utils.py\", line 96, in error_handler\n      return fn(*args, **kwargs)\n    File \"c:\\Users\\AndreiBorg\\anaconda3\\envs\\tf\\lib\\site-packages\\keras\\engine\\sequential.py\", line 410, in call\n      return super().call(inputs, training=training, mask=mask)\n    File \"c:\\Users\\AndreiBorg\\anaconda3\\envs\\tf\\lib\\site-packages\\keras\\engine\\functional.py\", line 510, in call\n      return self._run_internal_graph(inputs, training=training, mask=mask)\n    File \"c:\\Users\\AndreiBorg\\anaconda3\\envs\\tf\\lib\\site-packages\\keras\\engine\\functional.py\", line 667, in _run_internal_graph\n      outputs = node.layer(*args, **kwargs)\n    File \"c:\\Users\\AndreiBorg\\anaconda3\\envs\\tf\\lib\\site-packages\\keras\\utils\\traceback_utils.py\", line 65, in error_handler\n      return fn(*args, **kwargs)\n    File \"c:\\Users\\AndreiBorg\\anaconda3\\envs\\tf\\lib\\site-packages\\keras\\engine\\base_layer.py\", line 1097, in __call__\n      outputs = call_fn(inputs, *args, **kwargs)\n    File \"c:\\Users\\AndreiBorg\\anaconda3\\envs\\tf\\lib\\site-packages\\keras\\utils\\traceback_utils.py\", line 96, in error_handler\n      return fn(*args, **kwargs)\n    File \"c:\\Users\\AndreiBorg\\anaconda3\\envs\\tf\\lib\\site-packages\\keras\\layers\\convolutional\\base_conv.py\", line 314, in call\n      return self.activation(outputs)\n    File \"c:\\Users\\AndreiBorg\\anaconda3\\envs\\tf\\lib\\site-packages\\keras\\activations.py\", line 317, in relu\n      return backend.relu(\n    File \"c:\\Users\\AndreiBorg\\anaconda3\\envs\\tf\\lib\\site-packages\\keras\\backend.py\", line 5366, in relu\n      x = tf.nn.relu(x)\nNode: 'sequential_18/conv2d_54/Relu'\nOOM when allocating tensor with shape[8,256,465,930] and type float on /job:localhost/replica:0/task:0/device:GPU:0 by allocator GPU_0_bfc\n\t [[{{node sequential_18/conv2d_54/Relu}}]]\nHint: If you want to see a list of allocated tensors when OOM happens, add report_tensor_allocations_upon_oom to RunOptions for current allocation info. This isn't available when running in Eager mode.\n [Op:__inference_train_function_23191]"
     ]
    }
   ],
   "source": [
    "#scores_customCNN = []\n",
    "#models_customCNN = []\n",
    "\n",
    "lr = 0.0001\n",
    "\n",
    "#conv_layers = param_grid3[\"conv_layers\"][i[0]]\n",
    "#dense_layers = param_grid3[\"dense_layers\"][i[1]]\n",
    "#epochs = param_grid3[\"epochs\"][i[1]]\n",
    "#print(\"Dense layers:\", dense_layers)\n",
    "\n",
    "model_customCNN2 = Sequential()\n",
    "model_customCNN2.add(Conv2D(\n",
    "        filters=256,\n",
    "        kernel_size=(6, 6),\n",
    "        activation=\"relu\",\n",
    "        padding=\"same\",\n",
    "        input_shape=(img_height_eyes, img_width_eyes, 3),\n",
    "    ))\n",
    "model_customCNN2.add(MaxPool2D(pool_size=(4, 4), strides=4))\n",
    "\n",
    "model_customCNN2.add(Conv2D(filters=512, kernel_size=(9, 9), activation=\"relu\", padding=\"same\"))\n",
    "model_customCNN2.add(MaxPool2D(pool_size=(4, 4), strides=4))\n",
    "model_customCNN2.add(Conv2D(filters=512, kernel_size=(9, 9), activation=\"relu\", padding=\"same\"))\n",
    "model_customCNN2.add(MaxPool2D(pool_size=(4, 4), strides=4))\n",
    "\n",
    "model_customCNN2.add(Flatten())\n",
    "model_customCNN2.add(Dense(512, activation=\"relu\"))\n",
    "model_customCNN2.add(Dense(units=2, activation=\"softmax\"))\n",
    "\n",
    "#model_customCNN2.summary()\n",
    "\n",
    "model_customCNN2.compile(\n",
    "    optimizer=Adam(learning_rate=lr),\n",
    "    loss=\"categorical_crossentropy\",\n",
    "    metrics=[\"accuracy\"],\n",
    ")\n",
    "model_customCNN2.fit(x=train_batches, validation_data=valid_batches, epochs=8, verbose=2)\n",
    "\n",
    "# Save the weights\n",
    "model_customCNN2.save_weights('eyes_weights.h5')\n",
    "score = model_customCNN2.evaluate(test_batches, verbose=0)\n",
    "\n",
    "print(\"Test loss: {}, Test accuracy {}\".format(score[0], score[1]))"
   ]
  },
  {
   "attachments": {},
   "cell_type": "markdown",
   "metadata": {},
   "source": [
    "# Test the model with the webcam"
   ]
  },
  {
   "cell_type": "code",
   "execution_count": 24,
   "metadata": {},
   "outputs": [
    {
     "name": "stdout",
     "output_type": "stream",
     "text": [
      "1/1 [==============================] - 0s 48ms/step\n",
      "Confidence score for stroke: 0.6259473\n",
      "Confidence score for normal: 0.37405264\n"
     ]
    }
   ],
   "source": [
    "model_test = Sequential()\n",
    "model_test.add(Conv2D(\n",
    "        filters=256,\n",
    "        kernel_size=(6, 6),\n",
    "        activation=\"relu\",\n",
    "        padding=\"same\",\n",
    "        input_shape=(img_height, img_width, 3),\n",
    "    ))\n",
    "model_test.add(MaxPool2D(pool_size=(4, 4), strides=4))\n",
    "\n",
    "model_test.add(Conv2D(filters=512, kernel_size=(9, 9), activation=\"relu\", padding=\"same\"))\n",
    "model_test.add(MaxPool2D(pool_size=(4, 4), strides=4))\n",
    "model_test.add(Conv2D(filters=512, kernel_size=(9, 9), activation=\"relu\", padding=\"same\"))\n",
    "model_test.add(MaxPool2D(pool_size=(4, 4), strides=4))\n",
    "\n",
    "model_test.add(Flatten())\n",
    "model_test.add(Dense(512, activation=\"relu\"))\n",
    "model_test.add(Dense(units=2, activation=\"softmax\"))\n",
    "\n",
    "# Load the weights from the saved file\n",
    "model_test.load_weights('mouth_weights.h5')\n",
    "\n",
    "\n",
    "## --- Webcam --- ##\n",
    "\n",
    "\n",
    "\n",
    "\n",
    "# Load the image and preprocess it\n",
    "img = Image.open(\"rp_data\\\\test\\\\normal\\\\normal7.png\")\n",
    "img = img.resize((930, 465))\n",
    "\n",
    "# Remove the alpha channel if present\n",
    "if img.mode == 'RGBA':\n",
    "    img = img.convert('RGB')\n",
    "    \n",
    "# Convert the image to a numpy array\n",
    "img_array = np.array(img)\n",
    "img_array = np.expand_dims(img_array, axis=0)\n",
    "\n",
    "# Use the model to predict on a new image\n",
    "predictions = model_test.predict(img_array)\n",
    "\n",
    "# Get the confidence score for the positive class\n",
    "confidence_score_normal = predictions[0][0]\n",
    "confidence_score_stroke = predictions[0][1]\n",
    "\n",
    "print(\"Confidence score for normal:\", confidence_score_normal)\n",
    "print(\"Confidence score for stroke:\", confidence_score_stroke)\n",
    "\n",
    "# TODO: NIHSS points (also needs eye model weights)"
   ]
  },
  {
   "attachments": {},
   "cell_type": "markdown",
   "metadata": {},
   "source": [
    "# Pretrained Residual NN model (ResNet)"
   ]
  },
  {
   "cell_type": "code",
   "execution_count": 20,
   "metadata": {},
   "outputs": [
    {
     "name": "stdout",
     "output_type": "stream",
     "text": [
      "Learning rate: 0.0001\n",
      "Layers: 1\n",
      "Epoch 1/5\n"
     ]
    },
    {
     "name": "stderr",
     "output_type": "stream",
     "text": [
      "c:\\Users\\AndreiBorg\\anaconda3\\envs\\tf\\lib\\site-packages\\keras\\optimizers\\optimizer_v2\\adam.py:114: UserWarning: The `lr` argument is deprecated, use `learning_rate` instead.\n",
      "  super().__init__(name, **kwargs)\n",
      "c:\\Users\\AndreiBorg\\anaconda3\\envs\\tf\\lib\\site-packages\\keras\\preprocessing\\image.py:1863: UserWarning: This ImageDataGenerator specifies `featurewise_center`, but it hasn't been fit on any training data. Fit it first by calling `.fit(numpy_data)`.\n",
      "  warnings.warn(\n"
     ]
    },
    {
     "name": "stdout",
     "output_type": "stream",
     "text": [
      "383/383 - 150s - loss: 0.4539 - accuracy: 0.8021 - val_loss: 0.5595 - val_accuracy: 0.7278 - 150s/epoch - 392ms/step\n",
      "Epoch 2/5\n",
      "383/383 - 140s - loss: 0.2872 - accuracy: 0.9059 - val_loss: 0.5612 - val_accuracy: 0.7396 - 140s/epoch - 364ms/step\n",
      "Epoch 3/5\n",
      "383/383 - 144s - loss: 0.2074 - accuracy: 0.9406 - val_loss: 0.5002 - val_accuracy: 0.7712 - 144s/epoch - 376ms/step\n",
      "Epoch 4/5\n",
      "383/383 - 141s - loss: 0.1460 - accuracy: 0.9700 - val_loss: 0.5052 - val_accuracy: 0.7633 - 141s/epoch - 369ms/step\n",
      "Epoch 5/5\n",
      "383/383 - 144s - loss: 0.1080 - accuracy: 0.9801 - val_loss: 0.5201 - val_accuracy: 0.7751 - 144s/epoch - 375ms/step\n",
      "Test loss: 1.393337368965149, Test accuracy 0.6470588445663452\n",
      "Learning rate: 0.0001\n",
      "Layers: 2\n",
      "Epoch 1/5\n",
      "383/383 - 161s - loss: 0.4810 - accuracy: 0.7750 - val_loss: 0.5718 - val_accuracy: 0.7081 - 161s/epoch - 421ms/step\n",
      "Epoch 2/5\n",
      "383/383 - 152s - loss: 0.2644 - accuracy: 0.9086 - val_loss: 0.5349 - val_accuracy: 0.7771 - 152s/epoch - 398ms/step\n",
      "Epoch 3/5\n",
      "383/383 - 154s - loss: 0.1494 - accuracy: 0.9628 - val_loss: 0.5445 - val_accuracy: 0.7929 - 154s/epoch - 402ms/step\n",
      "Epoch 4/5\n",
      "383/383 - 152s - loss: 0.0788 - accuracy: 0.9889 - val_loss: 0.5625 - val_accuracy: 0.7949 - 152s/epoch - 397ms/step\n",
      "Epoch 5/5\n",
      "383/383 - 153s - loss: 0.0469 - accuracy: 0.9938 - val_loss: 0.5758 - val_accuracy: 0.8028 - 153s/epoch - 399ms/step\n",
      "Test loss: 1.3973842859268188, Test accuracy 0.5882353186607361\n",
      "Learning rate: 0.001\n",
      "Layers: 1\n",
      "Epoch 1/5\n",
      "383/383 - 152s - loss: 0.4214 - accuracy: 0.8142 - val_loss: 0.6494 - val_accuracy: 0.6963 - 152s/epoch - 398ms/step\n",
      "Epoch 2/5\n",
      "383/383 - 141s - loss: 0.1695 - accuracy: 0.9383 - val_loss: 0.5274 - val_accuracy: 0.8087 - 141s/epoch - 369ms/step\n",
      "Epoch 3/5\n",
      "383/383 - 142s - loss: 0.0824 - accuracy: 0.9742 - val_loss: 0.5532 - val_accuracy: 0.7574 - 142s/epoch - 370ms/step\n",
      "Epoch 4/5\n",
      "383/383 - 142s - loss: 0.0912 - accuracy: 0.9686 - val_loss: 0.6381 - val_accuracy: 0.7850 - 142s/epoch - 372ms/step\n",
      "Epoch 5/5\n",
      "383/383 - 144s - loss: 0.0257 - accuracy: 0.9948 - val_loss: 0.6856 - val_accuracy: 0.8284 - 144s/epoch - 376ms/step\n",
      "Test loss: 2.1606240272521973, Test accuracy 0.7058823704719543\n",
      "Learning rate: 0.001\n",
      "Layers: 2\n",
      "Epoch 1/5\n",
      "383/383 - 159s - loss: 0.3952 - accuracy: 0.8125 - val_loss: 0.5959 - val_accuracy: 0.7377 - 159s/epoch - 416ms/step\n",
      "Epoch 2/5\n",
      "383/383 - 152s - loss: 0.1690 - accuracy: 0.9353 - val_loss: 0.7430 - val_accuracy: 0.8047 - 152s/epoch - 398ms/step\n",
      "Epoch 3/5\n",
      "383/383 - 153s - loss: 0.0794 - accuracy: 0.9696 - val_loss: 0.6800 - val_accuracy: 0.8008 - 153s/epoch - 398ms/step\n",
      "Epoch 4/5\n",
      "383/383 - 152s - loss: 0.0536 - accuracy: 0.9814 - val_loss: 0.6110 - val_accuracy: 0.8264 - 152s/epoch - 397ms/step\n",
      "Epoch 5/5\n",
      "383/383 - 152s - loss: 0.0335 - accuracy: 0.9882 - val_loss: 0.7196 - val_accuracy: 0.7751 - 152s/epoch - 397ms/step\n",
      "Test loss: 1.9705274105072021, Test accuracy 0.6470588445663452\n",
      "[[1.393337368965149, 0.6470588445663452], [1.3973842859268188, 0.5882353186607361], [2.1606240272521973, 0.7058823704719543], [1.9705274105072021, 0.6470588445663452]]\n"
     ]
    }
   ],
   "source": [
    "scores_resnet = []\n",
    "models_resnet = []\n",
    "\n",
    "for i in combinations:\n",
    "    lr = param_grid['learning_rate'][i[0]]\n",
    "    layers = param_grid['hidden_layers'][i[1]]\n",
    "    print(\"Learning rate:\", lr)\n",
    "    print(\"Layers:\", layers)\n",
    "\n",
    "    # Create the base ResNet50 model\n",
    "    base_model = ResNet152(weights=\"imagenet\", include_top=False, input_shape=input_shape)\n",
    "\n",
    "    # Add a global average pooling layer and a dense layer with softmax activation for classification\n",
    "    x = base_model.output\n",
    "    x = GlobalAveragePooling2D()(x)\n",
    "    for i in range(layers):\n",
    "        x = Dense(128, activation=\"relu\")(x)\n",
    "    predictions = Dense(2, activation=\"softmax\")(x)\n",
    "\n",
    "    # Define the model to be trained with the ResNet50 base and the classification layers added\n",
    "    model_resnet = Model(inputs=base_model.input, outputs=predictions)\n",
    "\n",
    "    # Freeze the base ResNet50 layers so they are not updated during training\n",
    "    for layer in base_model.layers:\n",
    "        layer.trainable = False\n",
    "\n",
    "    # Compile the model with a learning rate of 0.001 and a categorical cross-entropy loss function\n",
    "    model_resnet.compile(\n",
    "        optimizer=Adam(lr=lr), loss=\"categorical_crossentropy\", metrics=[\"accuracy\"]\n",
    "    )\n",
    "\n",
    "    model_resnet.fit(x=train_batches, validation_data=valid_batches, epochs=5, verbose=2)\n",
    "    score = model_resnet.evaluate(test_batches, verbose=0)\n",
    "\n",
    "    print(\"Test loss: {}, Test accuracy {}\".format(score[0], score[1]))\n",
    "    \n",
    "    scores_resnet.append(score)\n",
    "    models_resnet.append(model_resnet)\n",
    "\n",
    "print(scores_resnet)\n"
   ]
  },
  {
   "cell_type": "code",
   "execution_count": null,
   "metadata": {},
   "outputs": [],
   "source": [
    "score = models_resnet[2].evaluate(test_batches, verbose=0)\n",
    "\n",
    "print(\"Test loss: {}, Test accuracy: {}\".format(score[0], score[1]))\n",
    "\n",
    "predictions = models_resnet[2].predict(x=test_batches, verbose=0)\n",
    "\n",
    "np.round(predictions)\n",
    "\n",
    "cm = confusion_matrix(\n",
    "    y_true=test_batches.classes, y_pred=np.argmax(predictions, axis=-1)\n",
    ")\n",
    "\n",
    "# extract true positives, false positives, true negatives, and false negatives\n",
    "tn, fp, fn, tp = cm.ravel()\n",
    "\n",
    "# calculate sensitivity and specificity\n",
    "sensitivity = tp / (tp + fn)\n",
    "specificity = tn / (tn + fp)\n",
    "\n",
    "print(\"Sensitivity:\", sensitivity)\n",
    "print(\"Specificity:\", specificity)\n",
    "\n",
    "cm_plot_labels = [\"normal\", \"stroke\"]\n",
    "plot_confusion_matrix(cm=cm, classes=cm_plot_labels, title=\"Confusion Matrix\")"
   ]
  }
 ],
 "metadata": {
  "kernelspec": {
   "display_name": "tf",
   "language": "python",
   "name": "python3"
  },
  "language_info": {
   "codemirror_mode": {
    "name": "ipython",
    "version": 3
   },
   "file_extension": ".py",
   "mimetype": "text/x-python",
   "name": "python",
   "nbconvert_exporter": "python",
   "pygments_lexer": "ipython3",
   "version": "3.8.16"
  },
  "orig_nbformat": 4
 },
 "nbformat": 4,
 "nbformat_minor": 2
}
