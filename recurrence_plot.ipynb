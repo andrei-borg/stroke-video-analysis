{
 "cells": [
  {
   "cell_type": "code",
   "execution_count": 1,
   "metadata": {},
   "outputs": [],
   "source": [
    "import numpy as np\n",
    "import os\n",
    "import pandas as pd\n",
    "import cv2\n",
    "import mediapipe\n",
    "import time\n",
    "import random\n",
    "from PIL import Image\n",
    "from sklearn.utils import class_weight\n",
    "import tensorflow as tf\n",
    "from keras.applications.resnet import ResNet152, ResNet50, ResNet101\n",
    "from keras.models import Model\n",
    "from sklearn.utils import shuffle\n",
    "from sklearn.preprocessing import MinMaxScaler\n",
    "from sklearn import decomposition, svm\n",
    "from sklearn.model_selection import train_test_split\n",
    "from keras.models import Sequential\n",
    "from keras.wrappers.scikit_learn import KerasClassifier\n",
    "from keras.layers import (\n",
    "    Conv2D,\n",
    "    MaxPool2D,\n",
    "    Flatten,\n",
    "    Dense,\n",
    "    InputLayer,\n",
    "    Activation,\n",
    "    BatchNormalization,\n",
    "    GlobalAveragePooling2D,\n",
    "    Dropout,\n",
    "    RandomFourierFeatures,\n",
    "    Input,\n",
    ")\n",
    "from keras.optimizers import Adam, SGD\n",
    "from keras.metrics import categorical_crossentropy\n",
    "from keras.preprocessing.image import ImageDataGenerator\n",
    "import matplotlib.pyplot as plt\n",
    "from sklearn.metrics import confusion_matrix, classification_report, accuracy_score\n",
    "import itertools\n",
    "import matplotlib.pyplot as plt\n",
    "from sklearn.model_selection import GridSearchCV\n",
    "from keras.preprocessing import image"
   ]
  },
  {
   "attachments": {},
   "cell_type": "markdown",
   "metadata": {},
   "source": [
    "# Functions and gridsearch"
   ]
  },
  {
   "cell_type": "code",
   "execution_count": 2,
   "metadata": {},
   "outputs": [],
   "source": [
    "def plot_confusion_matrix(\n",
    "    cm, classes, normalize=False, title=\"Confusion matrix\", cmap=plt.cm.Blues\n",
    "):\n",
    "    \"\"\"\n",
    "    This function prints and plots the confusion matrix.\n",
    "    Normalization can be applied by setting `normalize=True`.\n",
    "    \"\"\"\n",
    "    plt.imshow(cm, interpolation=\"nearest\", cmap=cmap)\n",
    "    plt.title(title)\n",
    "    plt.colorbar()\n",
    "    tick_marks = np.arange(len(classes))\n",
    "    plt.xticks(tick_marks, classes, rotation=45)\n",
    "    plt.yticks(tick_marks, classes)\n",
    "\n",
    "    if normalize:\n",
    "        cm = cm.astype(\"float\") / cm.sum(axis=1)[:, np.newaxis]\n",
    "        print(\"Normalized confusion matrix\")\n",
    "    else:\n",
    "        print(\"Confusion matrix, without normalization\")\n",
    "\n",
    "    print(cm)\n",
    "\n",
    "    thresh = cm.max() / 2.0\n",
    "    for i, j in itertools.product(range(cm.shape[0]), range(cm.shape[1])):\n",
    "        plt.text(\n",
    "            j,\n",
    "            i,\n",
    "            cm[i, j],\n",
    "            horizontalalignment=\"center\",\n",
    "            color=\"white\" if cm[i, j] > thresh else \"black\",\n",
    "        )\n",
    "\n",
    "    plt.tight_layout()\n",
    "    plt.ylabel(\"True label\")\n",
    "    plt.xlabel(\"Predicted label\")\n",
    "    plt.show()\n",
    "\n",
    "input_shape_mouth = (465, 930, 3) # mouth\n",
    "\n",
    "# Define hyperparameters and their values for GridSearch\n",
    "param_grid = {\n",
    "    'learning_rate': [0.0001, 0.001],\n",
    "    'hidden_layers': [1, 2],\n",
    "}\n",
    "\n",
    "combinations = [[0,0], [0,1], [1,0], [1,1]]\n",
    "\n",
    "# Define hyperparameters and their values for GridSearch\n",
    "param_grid2 = {\n",
    "    'learning_rate': [0.0001, 0.001],\n",
    "    'dropout_rate':  [0, 0.2],\n",
    "    'hidden_layers': [1, 2],\n",
    "}\n",
    "\n",
    "combinations2 = [[0,0,0], [0,0,1], [0,1,0], [0,1,1], [1,0,0], [1,0,1], [1,1,0], [1,1,1]]\n",
    "\n",
    "param_grid3 = {\n",
    "    'conv_layers': [2, 3],\n",
    "    #'dense_layers':  [1, 2],\n",
    "    'epochs': [5, 10, 20],\n",
    "}\n",
    "\n",
    "combinations3 = [[0,0], [0,1], [0,2], [1,0], [1,1], [1,2]]"
   ]
  },
  {
   "attachments": {},
   "cell_type": "markdown",
   "metadata": {},
   "source": [
    "# Preprocessing data"
   ]
  },
  {
   "attachments": {},
   "cell_type": "markdown",
   "metadata": {},
   "source": [
    "### Batches:"
   ]
  },
  {
   "cell_type": "code",
   "execution_count": 3,
   "metadata": {},
   "outputs": [
    {
     "name": "stdout",
     "output_type": "stream",
     "text": [
      "Found 3537 images belonging to 2 classes.\n",
      "Found 585 images belonging to 2 classes.\n",
      "Found 51 images belonging to 2 classes.\n"
     ]
    }
   ],
   "source": [
    "train_path = \"rp_data\\\\train\"\n",
    "valid_path = \"rp_data\\\\valid\"\n",
    "test_path = \"rp_data\\\\test\"\n",
    "\n",
    "# Define image size and number of channels\n",
    "\n",
    "# Mouth\n",
    "img_height_mouth = 465\n",
    "img_width_mouth = 930\n",
    "\n",
    "# Eyes\n",
    "img_height_eyes = 348\n",
    "img_width_eyes = 697\n",
    "\n",
    "# Change preprocess_input to the corresponding classifier (vgg16 for DNN/CNN and resnet for ResNet152)\n",
    "train_batches = ImageDataGenerator(\n",
    "    tf.keras.applications.vgg16.preprocess_input\n",
    ").flow_from_directory(\n",
    "    directory=train_path,\n",
    "    target_size=(img_height_mouth, img_width_mouth),\n",
    "    classes=[\"normal\", \"stroke\"],\n",
    "    batch_size=8,\n",
    ")\n",
    "\n",
    "valid_batches = ImageDataGenerator(\n",
    "    tf.keras.applications.vgg16.preprocess_input\n",
    ").flow_from_directory(\n",
    "    directory=valid_path,\n",
    "    target_size=(img_height_mouth, img_width_mouth),\n",
    "    classes=[\"normal\", \"stroke\"],\n",
    "    batch_size=8,\n",
    ")\n",
    "test_batches = ImageDataGenerator(\n",
    "    tf.keras.applications.vgg16.preprocess_input\n",
    ").flow_from_directory(\n",
    "    directory=test_path,\n",
    "    target_size=(img_height_mouth, img_width_mouth),\n",
    "    classes=[\"normal\", \"stroke\"],\n",
    "    batch_size=8,\n",
    "    shuffle=False,\n",
    ")"
   ]
  },
  {
   "attachments": {},
   "cell_type": "markdown",
   "metadata": {},
   "source": [
    "# DNN"
   ]
  },
  {
   "cell_type": "code",
   "execution_count": 25,
   "metadata": {},
   "outputs": [
    {
     "name": "stdout",
     "output_type": "stream",
     "text": [
      "Epoch 1/15\n"
     ]
    },
    {
     "name": "stderr",
     "output_type": "stream",
     "text": [
      "c:\\Users\\AndreiBorg\\anaconda3\\envs\\tf\\lib\\site-packages\\keras\\preprocessing\\image.py:1863: UserWarning: This ImageDataGenerator specifies `featurewise_center`, but it hasn't been fit on any training data. Fit it first by calling `.fit(numpy_data)`.\n",
      "  warnings.warn(\n"
     ]
    },
    {
     "name": "stdout",
     "output_type": "stream",
     "text": [
      "192/192 - 17s - loss: 110.7600 - accuracy: 0.5601 - val_loss: 120.8175 - val_accuracy: 0.5483 - 17s/epoch - 89ms/step\n",
      "Epoch 2/15\n",
      "192/192 - 16s - loss: 37.0958 - accuracy: 0.7587 - val_loss: 120.5916 - val_accuracy: 0.5168 - 16s/epoch - 85ms/step\n",
      "Epoch 3/15\n",
      "192/192 - 17s - loss: 28.0880 - accuracy: 0.8142 - val_loss: 99.6680 - val_accuracy: 0.5306 - 17s/epoch - 86ms/step\n",
      "Epoch 4/15\n",
      "192/192 - 16s - loss: 18.1097 - accuracy: 0.8821 - val_loss: 104.9292 - val_accuracy: 0.5404 - 16s/epoch - 85ms/step\n",
      "Epoch 5/15\n",
      "192/192 - 16s - loss: 13.3838 - accuracy: 0.8988 - val_loss: 93.7079 - val_accuracy: 0.5759 - 16s/epoch - 85ms/step\n",
      "Epoch 6/15\n",
      "192/192 - 17s - loss: 9.6797 - accuracy: 0.9242 - val_loss: 107.2478 - val_accuracy: 0.5187 - 17s/epoch - 86ms/step\n",
      "Epoch 7/15\n",
      "192/192 - 17s - loss: 10.8236 - accuracy: 0.9210 - val_loss: 116.0054 - val_accuracy: 0.5404 - 17s/epoch - 87ms/step\n",
      "Epoch 8/15\n",
      "192/192 - 16s - loss: 6.6087 - accuracy: 0.9448 - val_loss: 167.5210 - val_accuracy: 0.5187 - 16s/epoch - 85ms/step\n",
      "Epoch 9/15\n",
      "192/192 - 17s - loss: 7.0996 - accuracy: 0.9461 - val_loss: 134.8283 - val_accuracy: 0.5207 - 17s/epoch - 88ms/step\n",
      "Epoch 10/15\n",
      "192/192 - 17s - loss: 6.2962 - accuracy: 0.9526 - val_loss: 136.9778 - val_accuracy: 0.5286 - 17s/epoch - 87ms/step\n",
      "Epoch 11/15\n",
      "192/192 - 16s - loss: 4.2721 - accuracy: 0.9615 - val_loss: 119.7637 - val_accuracy: 0.5799 - 16s/epoch - 85ms/step\n",
      "Epoch 12/15\n",
      "192/192 - 16s - loss: 13.1905 - accuracy: 0.9229 - val_loss: 249.1035 - val_accuracy: 0.4911 - 16s/epoch - 85ms/step\n",
      "Epoch 13/15\n",
      "192/192 - 16s - loss: 7.7281 - accuracy: 0.9491 - val_loss: 146.8583 - val_accuracy: 0.5365 - 16s/epoch - 85ms/step\n",
      "Epoch 14/15\n",
      "192/192 - 16s - loss: 6.0173 - accuracy: 0.9556 - val_loss: 166.3062 - val_accuracy: 0.5345 - 16s/epoch - 85ms/step\n",
      "Epoch 15/15\n",
      "192/192 - 16s - loss: 2.1732 - accuracy: 0.9820 - val_loss: 155.0839 - val_accuracy: 0.5523 - 16s/epoch - 85ms/step\n",
      "Test loss: 146.415283203125, Test accuracy 0.7058823704719543\n"
     ]
    }
   ],
   "source": [
    "model_DNN = Sequential()\n",
    "model_DNN.add(Flatten())\n",
    "model_DNN.add(Dense(64, activation=\"relu\", input_shape=input_shape_mouth))\n",
    "model_DNN.add(Dense(64, activation=\"relu\"))\n",
    "model_DNN.add(Dense(units=2, activation=\"softmax\"))\n",
    "\n",
    "model_DNN.compile(optimizer=Adam(0.0001),\n",
    "              loss=\"categorical_crossentropy\",\n",
    "              metrics=[\"accuracy\"])\n",
    "\n",
    "model_DNN.fit(x=train_batches, validation_data=valid_batches, epochs=15, verbose=2)\n",
    "score = model_DNN.evaluate(test_batches, verbose=0)\n",
    "\n",
    "print(\"Test loss: {}, Test accuracy {}\".format(score[0], score[1]))"
   ]
  },
  {
   "cell_type": "code",
   "execution_count": 26,
   "metadata": {},
   "outputs": [
    {
     "name": "stdout",
     "output_type": "stream",
     "text": [
      "WARNING:tensorflow:5 out of the last 13 calls to <function Model.make_predict_function.<locals>.predict_function at 0x000002822A49FB80> triggered tf.function retracing. Tracing is expensive and the excessive number of tracings could be due to (1) creating @tf.function repeatedly in a loop, (2) passing tensors with different shapes, (3) passing Python objects instead of tensors. For (1), please define your @tf.function outside of the loop. For (2), @tf.function has reduce_retracing=True option that can avoid unnecessary retracing. For (3), please refer to https://www.tensorflow.org/guide/function#controlling_retracing and https://www.tensorflow.org/api_docs/python/tf/function for  more details.\n",
      "Sensitivity: 1.0\n",
      "Specificity: 0.375\n",
      "Confusion matrix, without normalization\n",
      "[[3 5]\n",
      " [0 9]]\n"
     ]
    },
    {
     "data": {
      "image/png": "[encoded data removed]",
      "text/plain": [
       "<Figure size 640x480 with 2 Axes>"
      ]
     },
     "metadata": {},
     "output_type": "display_data"
    },
    {
     "name": "stdout",
     "output_type": "stream",
     "text": [
      "Test loss: 146.415283203125, Test accuracy 0.7058823704719543\n"
     ]
    }
   ],
   "source": [
    "predictions = model_DNN.predict(x=test_batches, verbose=0)\n",
    "\n",
    "np.round(predictions)\n",
    "\n",
    "cm = confusion_matrix(\n",
    "    y_true=test_batches.classes, y_pred=np.argmax(predictions, axis=-1)\n",
    ")\n",
    "\n",
    "# extract true positives, false positives, true negatives, and false negatives\n",
    "tn, fp, fn, tp = cm.ravel()\n",
    "\n",
    "# calculate sensitivity and specificity\n",
    "sensitivity = tp / (tp + fn)\n",
    "specificity = tn / (tn + fp)\n",
    "\n",
    "print(\"Sensitivity:\", sensitivity)\n",
    "print(\"Specificity:\", specificity)\n",
    "\n",
    "cm_plot_labels = [\"normal\", \"stroke\"]\n",
    "plot_confusion_matrix(cm=cm, classes=cm_plot_labels, title=\"Confusion Matrix\")\n",
    "\n",
    "print(\"Test loss: {}, Test accuracy {}\".format(score[0], score[1]))"
   ]
  },
  {
   "attachments": {},
   "cell_type": "markdown",
   "metadata": {},
   "source": [
    "# CNN (mouth)"
   ]
  },
  {
   "cell_type": "code",
   "execution_count": 5,
   "metadata": {},
   "outputs": [
    {
     "name": "stdout",
     "output_type": "stream",
     "text": [
      "Epoch 1/10\n",
      "443/443 - 825s - loss: 2.5194 - accuracy: 0.8858 - val_loss: 0.4674 - val_accuracy: 0.8564 - 825s/epoch - 2s/step\n",
      "Epoch 2/10\n",
      "443/443 - 786s - loss: 0.0606 - accuracy: 0.9796 - val_loss: 0.8186 - val_accuracy: 0.8615 - 786s/epoch - 2s/step\n",
      "Epoch 3/10\n",
      "443/443 - 785s - loss: 0.0718 - accuracy: 0.9822 - val_loss: 1.0307 - val_accuracy: 0.8667 - 785s/epoch - 2s/step\n",
      "Epoch 4/10\n",
      "443/443 - 778s - loss: 0.0586 - accuracy: 0.9839 - val_loss: 1.0078 - val_accuracy: 0.8752 - 778s/epoch - 2s/step\n",
      "Epoch 5/10\n",
      "443/443 - 762s - loss: 0.0404 - accuracy: 0.9912 - val_loss: 0.8628 - val_accuracy: 0.8889 - 762s/epoch - 2s/step\n",
      "Epoch 6/10\n",
      "443/443 - 798s - loss: 0.0223 - accuracy: 0.9943 - val_loss: 1.0297 - val_accuracy: 0.8940 - 798s/epoch - 2s/step\n",
      "Epoch 7/10\n",
      "443/443 - 798s - loss: 0.0039 - accuracy: 0.9986 - val_loss: 1.3029 - val_accuracy: 0.8821 - 798s/epoch - 2s/step\n",
      "Epoch 8/10\n",
      "443/443 - 794s - loss: 0.0706 - accuracy: 0.9873 - val_loss: 1.0785 - val_accuracy: 0.8735 - 794s/epoch - 2s/step\n",
      "Epoch 9/10\n",
      "443/443 - 791s - loss: 0.0089 - accuracy: 0.9972 - val_loss: 1.0035 - val_accuracy: 0.9026 - 791s/epoch - 2s/step\n",
      "Epoch 10/10\n",
      "443/443 - 797s - loss: 4.6316e-04 - accuracy: 0.9997 - val_loss: 1.6093 - val_accuracy: 0.8769 - 797s/epoch - 2s/step\n",
      "Test loss: 1.5106072425842285, Test accuracy 0.9019607901573181\n"
     ]
    }
   ],
   "source": [
    "#scores_customCNN = []\n",
    "#models_customCNN = []\n",
    "\n",
    "lr = 0.0001\n",
    "\n",
    "#conv_layers = param_grid3[\"conv_layers\"][i[0]]\n",
    "#dense_layers = param_grid3[\"dense_layers\"][i[1]]\n",
    "#epochs = param_grid3[\"epochs\"][i[1]]\n",
    "#print(\"Dense layers:\", dense_layers)\n",
    "\n",
    "model_customCNN = Sequential()\n",
    "model_customCNN.add(Conv2D(\n",
    "        filters=256,\n",
    "        kernel_size=(6, 6),\n",
    "        activation=\"relu\",\n",
    "        padding=\"same\",\n",
    "        input_shape=(img_height_mouth, img_width_mouth, 3),\n",
    "    ))\n",
    "model_customCNN.add(MaxPool2D(pool_size=(4, 4), strides=4))\n",
    "\n",
    "model_customCNN.add(Conv2D(filters=512, kernel_size=(9, 9), activation=\"relu\", padding=\"same\"))\n",
    "model_customCNN.add(MaxPool2D(pool_size=(4, 4), strides=4))\n",
    "model_customCNN.add(Conv2D(filters=512, kernel_size=(9, 9), activation=\"relu\", padding=\"same\"))\n",
    "model_customCNN.add(MaxPool2D(pool_size=(4, 4), strides=4))\n",
    "\n",
    "model_customCNN.add(Flatten())\n",
    "model_customCNN.add(Dense(512, activation=\"relu\"))\n",
    "model_customCNN.add(Dense(units=2, activation=\"softmax\"))\n",
    "\n",
    "#model_customCNN.summary()\n",
    "\n",
    "model_customCNN.compile(\n",
    "    optimizer=Adam(learning_rate=lr),\n",
    "    loss=\"categorical_crossentropy\",\n",
    "    metrics=[\"accuracy\"],\n",
    ")\n",
    "model_customCNN.fit(x=train_batches, validation_data=valid_batches, epochs=10, verbose=2)\n",
    "# Save the weights\n",
    "model_customCNN.save_weights('mouth_weights_10ep.h5')\n",
    "score = model_customCNN.evaluate(test_batches, verbose=0)\n",
    "\n",
    "print(\"Test loss: {}, Test accuracy {}\".format(score[0], score[1]))"
   ]
  },
  {
   "cell_type": "code",
   "execution_count": 6,
   "metadata": {},
   "outputs": [
    {
     "name": "stdout",
     "output_type": "stream",
     "text": [
      "Sensitivity: 0.9230769230769231\n",
      "Specificity: 0.88\n",
      "Confusion matrix, without normalization\n",
      "[[22  3]\n",
      " [ 2 24]]\n"
     ]
    },
    {
     "data": {
      "image/png": "[encoded data removed]",
      "text/plain": [
       "<Figure size 640x480 with 2 Axes>"
      ]
     },
     "metadata": {},
     "output_type": "display_data"
    },
    {
     "name": "stdout",
     "output_type": "stream",
     "text": [
      "Test loss: 1.5106072425842285, Test accuracy 0.9019607901573181\n"
     ]
    }
   ],
   "source": [
    "predictions = model_customCNN.predict(x=test_batches, verbose=0)\n",
    "\n",
    "np.round(predictions)\n",
    "\n",
    "cm = confusion_matrix(\n",
    "    y_true=test_batches.classes, y_pred=np.argmax(predictions, axis=-1)\n",
    ")\n",
    "\n",
    "# extract true positives, false positives, true negatives, and false negatives\n",
    "tn, fp, fn, tp = cm.ravel()\n",
    "\n",
    "# calculate sensitivity and specificity\n",
    "sensitivity = tp / (tp + fn)\n",
    "specificity = tn / (tn + fp)\n",
    "\n",
    "print(\"Sensitivity:\", sensitivity)\n",
    "print(\"Specificity:\", specificity)\n",
    "\n",
    "cm_plot_labels = [\"normal\", \"stroke\"]\n",
    "plot_confusion_matrix(cm=cm, classes=cm_plot_labels, title=\"Confusion Matrix\")\n",
    "\n",
    "print(\"Test loss: {}, Test accuracy {}\".format(score[0], score[1]))"
   ]
  },
  {
   "attachments": {},
   "cell_type": "markdown",
   "metadata": {},
   "source": [
    "# CNN (eyes)"
   ]
  },
  {
   "cell_type": "code",
   "execution_count": 26,
   "metadata": {},
   "outputs": [
    {
     "name": "stdout",
     "output_type": "stream",
     "text": [
      "Epoch 1/10\n"
     ]
    },
    {
     "name": "stderr",
     "output_type": "stream",
     "text": [
      "c:\\Users\\AndreiBorg\\anaconda3\\envs\\tf\\lib\\site-packages\\keras\\preprocessing\\image.py:1863: UserWarning: This ImageDataGenerator specifies `featurewise_center`, but it hasn't been fit on any training data. Fit it first by calling `.fit(numpy_data)`.\n",
      "  warnings.warn(\n"
     ]
    },
    {
     "name": "stdout",
     "output_type": "stream",
     "text": [
      "383/383 - 402s - loss: 2.8550 - accuracy: 0.7707 - val_loss: 0.7115 - val_accuracy: 0.6746 - 402s/epoch - 1s/step\n",
      "Epoch 2/10\n",
      "383/383 - 390s - loss: 0.1030 - accuracy: 0.9605 - val_loss: 1.0034 - val_accuracy: 0.7041 - 390s/epoch - 1s/step\n",
      "Epoch 3/10\n",
      "383/383 - 396s - loss: 0.0366 - accuracy: 0.9869 - val_loss: 1.0852 - val_accuracy: 0.6923 - 396s/epoch - 1s/step\n",
      "Epoch 4/10\n",
      "383/383 - 396s - loss: 0.0788 - accuracy: 0.9752 - val_loss: 1.4082 - val_accuracy: 0.6982 - 396s/epoch - 1s/step\n",
      "Epoch 5/10\n",
      "383/383 - 393s - loss: 0.0300 - accuracy: 0.9918 - val_loss: 1.1431 - val_accuracy: 0.6982 - 393s/epoch - 1s/step\n",
      "Epoch 6/10\n",
      "383/383 - 393s - loss: 0.0640 - accuracy: 0.9794 - val_loss: 2.3313 - val_accuracy: 0.6686 - 393s/epoch - 1s/step\n",
      "Epoch 7/10\n",
      "383/383 - 393s - loss: 0.0192 - accuracy: 0.9928 - val_loss: 1.7970 - val_accuracy: 0.6686 - 393s/epoch - 1s/step\n",
      "Epoch 8/10\n",
      "383/383 - 396s - loss: 0.0648 - accuracy: 0.9843 - val_loss: 1.7479 - val_accuracy: 0.6667 - 396s/epoch - 1s/step\n",
      "Epoch 9/10\n",
      "383/383 - 395s - loss: 0.0050 - accuracy: 0.9977 - val_loss: 2.1551 - val_accuracy: 0.6864 - 395s/epoch - 1s/step\n",
      "Epoch 10/10\n",
      "383/383 - 395s - loss: 0.0215 - accuracy: 0.9935 - val_loss: 3.3539 - val_accuracy: 0.6351 - 395s/epoch - 1s/step\n",
      "Test loss: 0.9892070889472961, Test accuracy 0.8823529481887817\n"
     ]
    }
   ],
   "source": [
    "#scores_customCNN = []\n",
    "#models_customCNN = []\n",
    "\n",
    "lr = 0.0001\n",
    "\n",
    "#conv_layers = param_grid3[\"conv_layers\"][i[0]]\n",
    "#dense_layers = param_grid3[\"dense_layers\"][i[1]]\n",
    "#epochs = param_grid3[\"epochs\"][i[1]]\n",
    "#print(\"Dense layers:\", dense_layers)\n",
    "\n",
    "model_customCNN2 = Sequential()\n",
    "model_customCNN2.add(Conv2D(\n",
    "        filters=256,\n",
    "        kernel_size=(6, 6),\n",
    "        activation=\"relu\",\n",
    "        padding=\"same\",\n",
    "        input_shape=(img_height_eyes, img_width_eyes, 3),\n",
    "    ))\n",
    "model_customCNN2.add(MaxPool2D(pool_size=(4, 4), strides=4))\n",
    "\n",
    "model_customCNN2.add(Conv2D(filters=512, kernel_size=(9, 9), activation=\"relu\", padding=\"same\"))\n",
    "model_customCNN2.add(MaxPool2D(pool_size=(4, 4), strides=4))\n",
    "model_customCNN2.add(Conv2D(filters=512, kernel_size=(9, 9), activation=\"relu\", padding=\"same\"))\n",
    "model_customCNN2.add(MaxPool2D(pool_size=(4, 4), strides=4))\n",
    "\n",
    "model_customCNN2.add(Flatten())\n",
    "model_customCNN2.add(Dense(512, activation=\"relu\"))\n",
    "model_customCNN2.add(Dense(units=2, activation=\"softmax\"))\n",
    "\n",
    "#model_customCNN2.summary()\n",
    "\n",
    "model_customCNN2.compile(\n",
    "    optimizer=Adam(learning_rate=lr),\n",
    "    loss=\"categorical_crossentropy\",\n",
    "    metrics=[\"accuracy\"],\n",
    ")\n",
    "model_customCNN2.fit(x=train_batches, validation_data=valid_batches, epochs=10, verbose=2)\n",
    "\n",
    "# Save the weights\n",
    "model_customCNN2.save_weights('eyes_weights.h5')\n",
    "score = model_customCNN2.evaluate(test_batches, verbose=0)\n",
    "\n",
    "print(\"Test loss: {}, Test accuracy {}\".format(score[0], score[1]))"
   ]
  },
  {
   "cell_type": "code",
   "execution_count": 27,
   "metadata": {},
   "outputs": [
    {
     "name": "stdout",
     "output_type": "stream",
     "text": [
      "Sensitivity: 0.8888888888888888\n",
      "Specificity: 0.875\n",
      "Confusion matrix, without normalization\n",
      "[[7 1]\n",
      " [1 8]]\n"
     ]
    },
    {
     "data": {
      "image/png": "[encoded data removed]",
      "text/plain": [
       "<Figure size 640x480 with 2 Axes>"
      ]
     },
     "metadata": {},
     "output_type": "display_data"
    },
    {
     "name": "stdout",
     "output_type": "stream",
     "text": [
      "Test loss: 0.9892070889472961, Test accuracy 0.8823529481887817\n"
     ]
    }
   ],
   "source": [
    "predictions = model_customCNN2.predict(x=test_batches, verbose=0)\n",
    "\n",
    "np.round(predictions)\n",
    "\n",
    "cm = confusion_matrix(\n",
    "    y_true=test_batches.classes, y_pred=np.argmax(predictions, axis=-1)\n",
    ")\n",
    "\n",
    "# extract true positives, false positives, true negatives, and false negatives\n",
    "tn, fp, fn, tp = cm.ravel()\n",
    "\n",
    "# calculate sensitivity and specificity\n",
    "sensitivity = tp / (tp + fn)\n",
    "specificity = tn / (tn + fp)\n",
    "\n",
    "print(\"Sensitivity:\", sensitivity)\n",
    "print(\"Specificity:\", specificity)\n",
    "\n",
    "cm_plot_labels = [\"normal\", \"stroke\"]\n",
    "plot_confusion_matrix(cm=cm, classes=cm_plot_labels, title=\"Confusion Matrix\")\n",
    "\n",
    "print(\"Test loss: {}, Test accuracy {}\".format(score[0], score[1]))"
   ]
  },
  {
   "attachments": {},
   "cell_type": "markdown",
   "metadata": {},
   "source": [
    "# Test the model with the webcam"
   ]
  },
  {
   "cell_type": "code",
   "execution_count": 84,
   "metadata": {},
   "outputs": [
    {
     "name": "stdout",
     "output_type": "stream",
     "text": [
      "1/1 [==============================] - 0s 48ms/step\n",
      "Confidence score for normal: 4.2887127e-10\n",
      "Confidence score for stroke: 1.0\n"
     ]
    }
   ],
   "source": [
    "model_test = Sequential()\n",
    "model_test.add(Conv2D(\n",
    "        filters=256,\n",
    "        kernel_size=(6, 6),\n",
    "        activation=\"relu\",\n",
    "        padding=\"same\",\n",
    "        input_shape=(img_height, img_width, 3),\n",
    "    ))\n",
    "model_test.add(MaxPool2D(pool_size=(4, 4), strides=4))\n",
    "\n",
    "model_test.add(Conv2D(filters=512, kernel_size=(9, 9), activation=\"relu\", padding=\"same\"))\n",
    "model_test.add(MaxPool2D(pool_size=(4, 4), strides=4))\n",
    "model_test.add(Conv2D(filters=512, kernel_size=(9, 9), activation=\"relu\", padding=\"same\"))\n",
    "model_test.add(MaxPool2D(pool_size=(4, 4), strides=4))\n",
    "\n",
    "model_test.add(Flatten())\n",
    "model_test.add(Dense(512, activation=\"relu\"))\n",
    "model_test.add(Dense(units=2, activation=\"softmax\"))\n",
    "\n",
    "# Load the weights from the saved file\n",
    "model_test.load_weights('mouth_weights.h5')\n",
    "\n",
    "\n",
    "## --- Webcam --- ##\n",
    "\n",
    "\n",
    "\n",
    "\n",
    "# Load the image and preprocess it\n",
    "img = Image.open(\"rp_data\\\\test\\\\stroke\\\\weak20.png\")\n",
    "#img = Image.open(\"D:\\\\Kandidatarbete\\\\rp_eyes\\\\test\\\\normal\\\\normal28.png\")\n",
    "\n",
    "img = img.resize((930, 465)) # Mouth\n",
    "#img = img.resize((697, 348)) # Eyes\n",
    "\n",
    "\n",
    "# Remove the alpha channel if present\n",
    "if img.mode == 'RGBA':\n",
    "    img = img.convert('RGB')\n",
    "    \n",
    "# Convert the image to a numpy array\n",
    "img_array = np.array(img)\n",
    "img_array = np.expand_dims(img_array, axis=0)\n",
    "\n",
    "# Use the model to predict on a new image\n",
    "predictions = model_test.predict(img_array)\n",
    "\n",
    "# Get the confidence score for the positive class\n",
    "confidence_score_normal = predictions[0][0]\n",
    "confidence_score_stroke = predictions[0][1]\n",
    "\n",
    "print(\"Confidence score for normal:\", confidence_score_normal)\n",
    "print(\"Confidence score for stroke:\", confidence_score_stroke)\n",
    "\n",
    "# TODO: NIHSS points (also needs eye model weights)"
   ]
  },
  {
   "attachments": {},
   "cell_type": "markdown",
   "metadata": {},
   "source": [
    "# Pretrained Residual NN model (ResNet)"
   ]
  },
  {
   "cell_type": "code",
   "execution_count": 20,
   "metadata": {},
   "outputs": [
    {
     "name": "stdout",
     "output_type": "stream",
     "text": [
      "Learning rate: 0.0001\n",
      "Layers: 1\n",
      "Epoch 1/5\n"
     ]
    },
    {
     "name": "stderr",
     "output_type": "stream",
     "text": [
      "c:\\Users\\AndreiBorg\\anaconda3\\envs\\tf\\lib\\site-packages\\keras\\optimizers\\optimizer_v2\\adam.py:114: UserWarning: The `lr` argument is deprecated, use `learning_rate` instead.\n",
      "  super().__init__(name, **kwargs)\n",
      "c:\\Users\\AndreiBorg\\anaconda3\\envs\\tf\\lib\\site-packages\\keras\\preprocessing\\image.py:1863: UserWarning: This ImageDataGenerator specifies `featurewise_center`, but it hasn't been fit on any training data. Fit it first by calling `.fit(numpy_data)`.\n",
      "  warnings.warn(\n"
     ]
    },
    {
     "name": "stdout",
     "output_type": "stream",
     "text": [
      "383/383 - 150s - loss: 0.4539 - accuracy: 0.8021 - val_loss: 0.5595 - val_accuracy: 0.7278 - 150s/epoch - 392ms/step\n",
      "Epoch 2/5\n",
      "383/383 - 140s - loss: 0.2872 - accuracy: 0.9059 - val_loss: 0.5612 - val_accuracy: 0.7396 - 140s/epoch - 364ms/step\n",
      "Epoch 3/5\n",
      "383/383 - 144s - loss: 0.2074 - accuracy: 0.9406 - val_loss: 0.5002 - val_accuracy: 0.7712 - 144s/epoch - 376ms/step\n",
      "Epoch 4/5\n",
      "383/383 - 141s - loss: 0.1460 - accuracy: 0.9700 - val_loss: 0.5052 - val_accuracy: 0.7633 - 141s/epoch - 369ms/step\n",
      "Epoch 5/5\n",
      "383/383 - 144s - loss: 0.1080 - accuracy: 0.9801 - val_loss: 0.5201 - val_accuracy: 0.7751 - 144s/epoch - 375ms/step\n",
      "Test loss: 1.393337368965149, Test accuracy 0.6470588445663452\n",
      "Learning rate: 0.0001\n",
      "Layers: 2\n",
      "Epoch 1/5\n",
      "383/383 - 161s - loss: 0.4810 - accuracy: 0.7750 - val_loss: 0.5718 - val_accuracy: 0.7081 - 161s/epoch - 421ms/step\n",
      "Epoch 2/5\n",
      "383/383 - 152s - loss: 0.2644 - accuracy: 0.9086 - val_loss: 0.5349 - val_accuracy: 0.7771 - 152s/epoch - 398ms/step\n",
      "Epoch 3/5\n",
      "383/383 - 154s - loss: 0.1494 - accuracy: 0.9628 - val_loss: 0.5445 - val_accuracy: 0.7929 - 154s/epoch - 402ms/step\n",
      "Epoch 4/5\n",
      "383/383 - 152s - loss: 0.0788 - accuracy: 0.9889 - val_loss: 0.5625 - val_accuracy: 0.7949 - 152s/epoch - 397ms/step\n",
      "Epoch 5/5\n",
      "383/383 - 153s - loss: 0.0469 - accuracy: 0.9938 - val_loss: 0.5758 - val_accuracy: 0.8028 - 153s/epoch - 399ms/step\n",
      "Test loss: 1.3973842859268188, Test accuracy 0.5882353186607361\n",
      "Learning rate: 0.001\n",
      "Layers: 1\n",
      "Epoch 1/5\n",
      "383/383 - 152s - loss: 0.4214 - accuracy: 0.8142 - val_loss: 0.6494 - val_accuracy: 0.6963 - 152s/epoch - 398ms/step\n",
      "Epoch 2/5\n",
      "383/383 - 141s - loss: 0.1695 - accuracy: 0.9383 - val_loss: 0.5274 - val_accuracy: 0.8087 - 141s/epoch - 369ms/step\n",
      "Epoch 3/5\n",
      "383/383 - 142s - loss: 0.0824 - accuracy: 0.9742 - val_loss: 0.5532 - val_accuracy: 0.7574 - 142s/epoch - 370ms/step\n",
      "Epoch 4/5\n",
      "383/383 - 142s - loss: 0.0912 - accuracy: 0.9686 - val_loss: 0.6381 - val_accuracy: 0.7850 - 142s/epoch - 372ms/step\n",
      "Epoch 5/5\n",
      "383/383 - 144s - loss: 0.0257 - accuracy: 0.9948 - val_loss: 0.6856 - val_accuracy: 0.8284 - 144s/epoch - 376ms/step\n",
      "Test loss: 2.1606240272521973, Test accuracy 0.7058823704719543\n",
      "Learning rate: 0.001\n",
      "Layers: 2\n",
      "Epoch 1/5\n",
      "383/383 - 159s - loss: 0.3952 - accuracy: 0.8125 - val_loss: 0.5959 - val_accuracy: 0.7377 - 159s/epoch - 416ms/step\n",
      "Epoch 2/5\n",
      "383/383 - 152s - loss: 0.1690 - accuracy: 0.9353 - val_loss: 0.7430 - val_accuracy: 0.8047 - 152s/epoch - 398ms/step\n",
      "Epoch 3/5\n",
      "383/383 - 153s - loss: 0.0794 - accuracy: 0.9696 - val_loss: 0.6800 - val_accuracy: 0.8008 - 153s/epoch - 398ms/step\n",
      "Epoch 4/5\n",
      "383/383 - 152s - loss: 0.0536 - accuracy: 0.9814 - val_loss: 0.6110 - val_accuracy: 0.8264 - 152s/epoch - 397ms/step\n",
      "Epoch 5/5\n",
      "383/383 - 152s - loss: 0.0335 - accuracy: 0.9882 - val_loss: 0.7196 - val_accuracy: 0.7751 - 152s/epoch - 397ms/step\n",
      "Test loss: 1.9705274105072021, Test accuracy 0.6470588445663452\n",
      "[[1.393337368965149, 0.6470588445663452], [1.3973842859268188, 0.5882353186607361], [2.1606240272521973, 0.7058823704719543], [1.9705274105072021, 0.6470588445663452]]\n"
     ]
    }
   ],
   "source": [
    "scores_resnet = []\n",
    "models_resnet = []\n",
    "\n",
    "for i in combinations:\n",
    "    lr = param_grid['learning_rate'][i[0]]\n",
    "    layers = param_grid['hidden_layers'][i[1]]\n",
    "    print(\"Learning rate:\", lr)\n",
    "    print(\"Layers:\", layers)\n",
    "\n",
    "    # Create the base ResNet50 model\n",
    "    base_model = ResNet152(weights=\"imagenet\", include_top=False, input_shape=input_shape)\n",
    "\n",
    "    # Add a global average pooling layer and a dense layer with softmax activation for classification\n",
    "    x = base_model.output\n",
    "    x = GlobalAveragePooling2D()(x)\n",
    "    for i in range(layers):\n",
    "        x = Dense(128, activation=\"relu\")(x)\n",
    "    predictions = Dense(2, activation=\"softmax\")(x)\n",
    "\n",
    "    # Define the model to be trained with the ResNet50 base and the classification layers added\n",
    "    model_resnet = Model(inputs=base_model.input, outputs=predictions)\n",
    "\n",
    "    # Freeze the base ResNet50 layers so they are not updated during training\n",
    "    for layer in base_model.layers:\n",
    "        layer.trainable = False\n",
    "\n",
    "    # Compile the model with a learning rate of 0.001 and a categorical cross-entropy loss function\n",
    "    model_resnet.compile(\n",
    "        optimizer=Adam(lr=lr), loss=\"categorical_crossentropy\", metrics=[\"accuracy\"]\n",
    "    )\n",
    "\n",
    "    model_resnet.fit(x=train_batches, validation_data=valid_batches, epochs=5, verbose=2)\n",
    "    score = model_resnet.evaluate(test_batches, verbose=0)\n",
    "\n",
    "    print(\"Test loss: {}, Test accuracy {}\".format(score[0], score[1]))\n",
    "    \n",
    "    scores_resnet.append(score)\n",
    "    models_resnet.append(model_resnet)\n",
    "\n",
    "print(scores_resnet)\n"
   ]
  },
  {
   "cell_type": "code",
   "execution_count": null,
   "metadata": {},
   "outputs": [],
   "source": [
    "score = models_resnet[2].evaluate(test_batches, verbose=0)\n",
    "\n",
    "print(\"Test loss: {}, Test accuracy: {}\".format(score[0], score[1]))\n",
    "\n",
    "predictions = models_resnet[2].predict(x=test_batches, verbose=0)\n",
    "\n",
    "np.round(predictions)\n",
    "\n",
    "cm = confusion_matrix(\n",
    "    y_true=test_batches.classes, y_pred=np.argmax(predictions, axis=-1)\n",
    ")\n",
    "\n",
    "# extract true positives, false positives, true negatives, and false negatives\n",
    "tn, fp, fn, tp = cm.ravel()\n",
    "\n",
    "# calculate sensitivity and specificity\n",
    "sensitivity = tp / (tp + fn)\n",
    "specificity = tn / (tn + fp)\n",
    "\n",
    "print(\"Sensitivity:\", sensitivity)\n",
    "print(\"Specificity:\", specificity)\n",
    "\n",
    "cm_plot_labels = [\"normal\", \"stroke\"]\n",
    "plot_confusion_matrix(cm=cm, classes=cm_plot_labels, title=\"Confusion Matrix\")"
   ]
  }
 ],
 "metadata": {
  "kernelspec": {
   "display_name": "tf",
   "language": "python",
   "name": "python3"
  },
  "language_info": {
   "codemirror_mode": {
    "name": "ipython",
    "version": 3
   },
   "file_extension": ".py",
   "mimetype": "text/x-python",
   "name": "python",
   "nbconvert_exporter": "python",
   "pygments_lexer": "ipython3",
   "version": "3.8.16"
  },
  "orig_nbformat": 4
 },
 "nbformat": 4,
 "nbformat_minor": 2
}
