{
 "cells": [
  {
   "attachments": {},
   "cell_type": "markdown",
   "metadata": {},
   "source": [
    "# Recurrence Plot Training"
   ]
  },
  {
   "cell_type": "code",
   "execution_count": 3,
   "metadata": {},
   "outputs": [],
   "source": [
    "import os\n",
    "import cv2\n",
    "import mediapipe\n",
    "import time\n",
    "import random\n",
    "import itertools\n",
    "\n",
    "import numpy as np\n",
    "import pandas as pd\n",
    "import tensorflow as tf\n",
    "import matplotlib.pyplot as plt\n",
    "\n",
    "from PIL import Image\n",
    "from sklearn.utils import class_weight, shuffle\n",
    "from keras.applications.resnet import ResNet152, ResNet50, ResNet101\n",
    "from keras.models import Model, Sequential\n",
    "from keras.wrappers.scikit_learn import KerasClassifier\n",
    "from keras.optimizers import Adam, SGD\n",
    "from keras.metrics import categorical_crossentropy\n",
    "from keras.preprocessing.image import ImageDataGenerator\n",
    "from sklearn.metrics import confusion_matrix, classification_report, accuracy_score\n",
    "from sklearn.model_selection import GridSearchCV\n",
    "from keras.preprocessing import image\n",
    "from keras.layers import (\n",
    "    Conv2D,\n",
    "    MaxPool2D,\n",
    "    Flatten,\n",
    "    Dense,\n",
    "    InputLayer,\n",
    "    Activation,\n",
    "    BatchNormalization,\n",
    "    GlobalAveragePooling2D,\n",
    "    Dropout,\n",
    "    RandomFourierFeatures,\n",
    "    Input,\n",
    ")"
   ]
  },
  {
   "attachments": {},
   "cell_type": "markdown",
   "metadata": {},
   "source": [
    "# Functions and gridsearch"
   ]
  },
  {
   "cell_type": "code",
   "execution_count": 4,
   "metadata": {},
   "outputs": [],
   "source": [
    "def plot_confusion_matrix(\n",
    "    cm, classes, normalize=False, title=\"Confusion matrix\", cmap=plt.cm.Blues\n",
    "):\n",
    "    \"\"\"\n",
    "    This function prints and plots the confusion matrix.\n",
    "    Normalization can be applied by setting `normalize=True`.\n",
    "    \"\"\"\n",
    "    plt.imshow(cm, interpolation=\"nearest\", cmap=cmap)\n",
    "    plt.title(title)\n",
    "    plt.colorbar()\n",
    "    tick_marks = np.arange(len(classes))\n",
    "    plt.xticks(tick_marks, classes, rotation=45)\n",
    "    plt.yticks(tick_marks, classes)\n",
    "\n",
    "    if normalize:\n",
    "        cm = cm.astype(\"float\") / cm.sum(axis=1)[:, np.newaxis]\n",
    "        print(\"Normalized confusion matrix\")\n",
    "    else:\n",
    "        print(\"Confusion matrix, without normalization\")\n",
    "\n",
    "    print(cm)\n",
    "\n",
    "    thresh = cm.max() / 2.0\n",
    "    for i, j in itertools.product(range(cm.shape[0]), range(cm.shape[1])):\n",
    "        plt.text(\n",
    "            j,\n",
    "            i,\n",
    "            cm[i, j],\n",
    "            horizontalalignment=\"center\",\n",
    "            color=\"white\" if cm[i, j] > thresh else \"black\",\n",
    "        )\n",
    "\n",
    "    plt.tight_layout()\n",
    "    plt.ylabel(\"True label\")\n",
    "    plt.xlabel(\"Predicted label\")\n",
    "    plt.show()\n",
    "\n",
    "input_shape_mouth = (465, 930, 3) # mouth\n",
    "\n",
    "# Define hyperparameters and their values for GridSearch\n",
    "param_grid = {\n",
    "    \"learning_rate\": [0.0001, 0.001],\n",
    "    \"hidden_layers\": [1, 2],\n",
    "}\n",
    "\n",
    "param_grid2 = {\n",
    "    \"learning_rate\": [0.0001, 0.001],\n",
    "    \"dropout_rate\":  [0, 0.2],\n",
    "    \"hidden_layers\": [1, 2],\n",
    "}\n",
    "\n",
    "param_grid3 = {\n",
    "    \"conv_layers\": [2, 3],\n",
    "    #\"dense_layers\":  [1, 2],\n",
    "    \"epochs\": [5, 10, 20],\n",
    "}"
   ]
  },
  {
   "attachments": {},
   "cell_type": "markdown",
   "metadata": {},
   "source": [
    "# Preprocessing data"
   ]
  },
  {
   "attachments": {},
   "cell_type": "markdown",
   "metadata": {},
   "source": [
    "### Batches:"
   ]
  },
  {
   "cell_type": "code",
   "execution_count": 5,
   "metadata": {},
   "outputs": [
    {
     "name": "stdout",
     "output_type": "stream",
     "text": [
      "Found 3537 images belonging to 2 classes.\n",
      "Found 585 images belonging to 2 classes.\n",
      "Found 51 images belonging to 2 classes.\n"
     ]
    }
   ],
   "source": [
    "train_path = \"rp_data\\\\train\"\n",
    "valid_path = \"rp_data\\\\valid\"\n",
    "test_path = \"rp_data\\\\test\"\n",
    "\n",
    "# Mouth\n",
    "img_height_mouth = 465\n",
    "img_width_mouth = 930\n",
    "\n",
    "# Eyes\n",
    "img_height_eyes = 348\n",
    "img_width_eyes = 697\n",
    "\n",
    "# Change preprocess_input to the corresponding classifier (vgg16 for DNN/CNN and resnet for ResNet152)\n",
    "train_batches = ImageDataGenerator(\n",
    "    tf.keras.applications.vgg16.preprocess_input\n",
    ").flow_from_directory(\n",
    "    directory=train_path,\n",
    "    target_size=(img_height_mouth, img_width_mouth),\n",
    "    classes=[\"normal\", \"stroke\"],\n",
    "    batch_size=8,\n",
    ")\n",
    "\n",
    "valid_batches = ImageDataGenerator(\n",
    "    tf.keras.applications.vgg16.preprocess_input\n",
    ").flow_from_directory(\n",
    "    directory=valid_path,\n",
    "    target_size=(img_height_mouth, img_width_mouth),\n",
    "    classes=[\"normal\", \"stroke\"],\n",
    "    batch_size=8,\n",
    ")\n",
    "test_batches = ImageDataGenerator(\n",
    "    tf.keras.applications.vgg16.preprocess_input\n",
    ").flow_from_directory(\n",
    "    directory=test_path,\n",
    "    target_size=(img_height_mouth, img_width_mouth),\n",
    "    classes=[\"normal\", \"stroke\"],\n",
    "    batch_size=8,\n",
    "    shuffle=False,\n",
    ")"
   ]
  },
  {
   "attachments": {},
   "cell_type": "markdown",
   "metadata": {},
   "source": [
    "# DNN"
   ]
  },
  {
   "cell_type": "code",
   "execution_count": null,
   "metadata": {},
   "outputs": [],
   "source": [
    "model_DNN = Sequential()\n",
    "model_DNN.add(Flatten())\n",
    "model_DNN.add(Dense(64, activation=\"relu\", input_shape=input_shape_mouth))\n",
    "model_DNN.add(Dense(64, activation=\"relu\"))\n",
    "model_DNN.add(Dense(units=2, activation=\"softmax\"))\n",
    "\n",
    "model_DNN.compile(optimizer=Adam(0.0001),\n",
    "              loss=\"categorical_crossentropy\",\n",
    "              metrics=[\"accuracy\"])\n",
    "\n",
    "model_DNN.fit(x=train_batches, validation_data=valid_batches, epochs=15, verbose=2)\n",
    "score = model_DNN.evaluate(test_batches, verbose=0)\n",
    "\n",
    "print(\"Test loss: {}, Test accuracy {}\".format(score[0], score[1]))"
   ]
  },
  {
   "cell_type": "code",
   "execution_count": null,
   "metadata": {},
   "outputs": [],
   "source": [
    "predictions = model_DNN.predict(x=test_batches, verbose=0)\n",
    "\n",
    "np.round(predictions)\n",
    "\n",
    "cm = confusion_matrix(\n",
    "    y_true=test_batches.classes, y_pred=np.argmax(predictions, axis=-1)\n",
    ")\n",
    "\n",
    "# Extract true positives, false positives, true negatives, and false negatives\n",
    "tn, fp, fn, tp = cm.ravel()\n",
    "\n",
    "# Calculate sensitivity and specificity\n",
    "sensitivity = tp / (tp + fn)\n",
    "specificity = tn / (tn + fp)\n",
    "\n",
    "print(\"Sensitivity:\", sensitivity)\n",
    "print(\"Specificity:\", specificity)\n",
    "\n",
    "cm_plot_labels = [\"normal\", \"stroke\"]\n",
    "plot_confusion_matrix(cm=cm, classes=cm_plot_labels, title=\"Confusion Matrix\")\n",
    "\n",
    "print(\"Test loss: {}, Test accuracy {}\".format(score[0], score[1]))"
   ]
  },
  {
   "attachments": {},
   "cell_type": "markdown",
   "metadata": {},
   "source": [
    "# CNN (mouth)"
   ]
  },
  {
   "cell_type": "code",
   "execution_count": 5,
   "metadata": {},
   "outputs": [
    {
     "name": "stdout",
     "output_type": "stream",
     "text": [
      "Epoch 1/10\n",
      "443/443 - 825s - loss: 2.5194 - accuracy: 0.8858 - val_loss: 0.4674 - val_accuracy: 0.8564 - 825s/epoch - 2s/step\n",
      "Epoch 2/10\n",
      "443/443 - 786s - loss: 0.0606 - accuracy: 0.9796 - val_loss: 0.8186 - val_accuracy: 0.8615 - 786s/epoch - 2s/step\n",
      "Epoch 3/10\n",
      "443/443 - 785s - loss: 0.0718 - accuracy: 0.9822 - val_loss: 1.0307 - val_accuracy: 0.8667 - 785s/epoch - 2s/step\n",
      "Epoch 4/10\n",
      "443/443 - 778s - loss: 0.0586 - accuracy: 0.9839 - val_loss: 1.0078 - val_accuracy: 0.8752 - 778s/epoch - 2s/step\n",
      "Epoch 5/10\n",
      "443/443 - 762s - loss: 0.0404 - accuracy: 0.9912 - val_loss: 0.8628 - val_accuracy: 0.8889 - 762s/epoch - 2s/step\n",
      "Epoch 6/10\n",
      "443/443 - 798s - loss: 0.0223 - accuracy: 0.9943 - val_loss: 1.0297 - val_accuracy: 0.8940 - 798s/epoch - 2s/step\n",
      "Epoch 7/10\n",
      "443/443 - 798s - loss: 0.0039 - accuracy: 0.9986 - val_loss: 1.3029 - val_accuracy: 0.8821 - 798s/epoch - 2s/step\n",
      "Epoch 8/10\n",
      "443/443 - 794s - loss: 0.0706 - accuracy: 0.9873 - val_loss: 1.0785 - val_accuracy: 0.8735 - 794s/epoch - 2s/step\n",
      "Epoch 9/10\n",
      "443/443 - 791s - loss: 0.0089 - accuracy: 0.9972 - val_loss: 1.0035 - val_accuracy: 0.9026 - 791s/epoch - 2s/step\n",
      "Epoch 10/10\n",
      "443/443 - 797s - loss: 4.6316e-04 - accuracy: 0.9997 - val_loss: 1.6093 - val_accuracy: 0.8769 - 797s/epoch - 2s/step\n",
      "Test loss: 1.5106072425842285, Test accuracy 0.9019607901573181\n"
     ]
    }
   ],
   "source": [
    "lr = 0.0001\n",
    "\n",
    "model_customCNN = Sequential()\n",
    "model_customCNN.add(Conv2D(\n",
    "        filters=256,\n",
    "        kernel_size=(6, 6),\n",
    "        activation=\"relu\",\n",
    "        padding=\"same\",\n",
    "        input_shape=(img_height_mouth, img_width_mouth, 3),\n",
    "    ))\n",
    "model_customCNN.add(MaxPool2D(pool_size=(4, 4), strides=4))\n",
    "\n",
    "model_customCNN.add(Conv2D(filters=512, kernel_size=(9, 9), activation=\"relu\", padding=\"same\"))\n",
    "model_customCNN.add(MaxPool2D(pool_size=(4, 4), strides=4))\n",
    "model_customCNN.add(Conv2D(filters=512, kernel_size=(9, 9), activation=\"relu\", padding=\"same\"))\n",
    "model_customCNN.add(MaxPool2D(pool_size=(4, 4), strides=4))\n",
    "\n",
    "model_customCNN.add(Flatten())\n",
    "model_customCNN.add(Dense(512, activation=\"relu\"))\n",
    "model_customCNN.add(Dense(units=2, activation=\"softmax\"))\n",
    "\n",
    "#model_customCNN.summary()\n",
    "\n",
    "model_customCNN.compile(\n",
    "    optimizer=Adam(learning_rate=lr),\n",
    "    loss=\"categorical_crossentropy\",\n",
    "    metrics=[\"accuracy\"],\n",
    ")\n",
    "model_customCNN.fit(x=train_batches, validation_data=valid_batches, epochs=10, verbose=2)\n",
    "# Save the weights\n",
    "model_customCNN.save_weights(\"mouth_weights_10ep.h5\")\n",
    "score = model_customCNN.evaluate(test_batches, verbose=0)\n",
    "\n",
    "print(\"Test loss: {}, Test accuracy {}\".format(score[0], score[1]))"
   ]
  },
  {
   "cell_type": "code",
   "execution_count": 6,
   "metadata": {},
   "outputs": [
    {
     "name": "stdout",
     "output_type": "stream",
     "text": [
      "Sensitivity: 0.9230769230769231\n",
      "Specificity: 0.88\n",
      "Confusion matrix, without normalization\n",
      "[[22  3]\n",
      " [ 2 24]]\n"
     ]
    },
    {
     "data": {
      "image/png": "[encoded data removed]",
      "text/plain": [
       "<Figure size 640x480 with 2 Axes>"
      ]
     },
     "metadata": {},
     "output_type": "display_data"
    },
    {
     "name": "stdout",
     "output_type": "stream",
     "text": [
      "Test loss: 1.5106072425842285, Test accuracy 0.9019607901573181\n"
     ]
    }
   ],
   "source": [
    "predictions = model_customCNN.predict(x=test_batches, verbose=0)\n",
    "\n",
    "np.round(predictions)\n",
    "\n",
    "cm = confusion_matrix(\n",
    "    y_true=test_batches.classes, y_pred=np.argmax(predictions, axis=-1)\n",
    ")\n",
    "\n",
    "# Extract true positives, false positives, true negatives, and false negatives\n",
    "tn, fp, fn, tp = cm.ravel()\n",
    "\n",
    "# Calculate sensitivity and specificity\n",
    "sensitivity = tp / (tp + fn)\n",
    "specificity = tn / (tn + fp)\n",
    "\n",
    "print(\"Sensitivity:\", sensitivity)\n",
    "print(\"Specificity:\", specificity)\n",
    "\n",
    "cm_plot_labels = [\"normal\", \"stroke\"]\n",
    "plot_confusion_matrix(cm=cm, classes=cm_plot_labels, title=\"Confusion Matrix\")\n",
    "\n",
    "print(\"Test loss: {}, Test accuracy {}\".format(score[0], score[1]))"
   ]
  },
  {
   "attachments": {},
   "cell_type": "markdown",
   "metadata": {},
   "source": [
    "# CNN (eyes)"
   ]
  },
  {
   "cell_type": "code",
   "execution_count": 26,
   "metadata": {},
   "outputs": [
    {
     "name": "stdout",
     "output_type": "stream",
     "text": [
      "Epoch 1/10\n"
     ]
    },
    {
     "name": "stderr",
     "output_type": "stream",
     "text": [
      "c:\\Users\\AndreiBorg\\anaconda3\\envs\\tf\\lib\\site-packages\\keras\\preprocessing\\image.py:1863: UserWarning: This ImageDataGenerator specifies `featurewise_center`, but it hasn't been fit on any training data. Fit it first by calling `.fit(numpy_data)`.\n",
      "  warnings.warn(\n"
     ]
    },
    {
     "name": "stdout",
     "output_type": "stream",
     "text": [
      "383/383 - 402s - loss: 2.8550 - accuracy: 0.7707 - val_loss: 0.7115 - val_accuracy: 0.6746 - 402s/epoch - 1s/step\n",
      "Epoch 2/10\n",
      "383/383 - 390s - loss: 0.1030 - accuracy: 0.9605 - val_loss: 1.0034 - val_accuracy: 0.7041 - 390s/epoch - 1s/step\n",
      "Epoch 3/10\n",
      "383/383 - 396s - loss: 0.0366 - accuracy: 0.9869 - val_loss: 1.0852 - val_accuracy: 0.6923 - 396s/epoch - 1s/step\n",
      "Epoch 4/10\n",
      "383/383 - 396s - loss: 0.0788 - accuracy: 0.9752 - val_loss: 1.4082 - val_accuracy: 0.6982 - 396s/epoch - 1s/step\n",
      "Epoch 5/10\n",
      "383/383 - 393s - loss: 0.0300 - accuracy: 0.9918 - val_loss: 1.1431 - val_accuracy: 0.6982 - 393s/epoch - 1s/step\n",
      "Epoch 6/10\n",
      "383/383 - 393s - loss: 0.0640 - accuracy: 0.9794 - val_loss: 2.3313 - val_accuracy: 0.6686 - 393s/epoch - 1s/step\n",
      "Epoch 7/10\n",
      "383/383 - 393s - loss: 0.0192 - accuracy: 0.9928 - val_loss: 1.7970 - val_accuracy: 0.6686 - 393s/epoch - 1s/step\n",
      "Epoch 8/10\n",
      "383/383 - 396s - loss: 0.0648 - accuracy: 0.9843 - val_loss: 1.7479 - val_accuracy: 0.6667 - 396s/epoch - 1s/step\n",
      "Epoch 9/10\n",
      "383/383 - 395s - loss: 0.0050 - accuracy: 0.9977 - val_loss: 2.1551 - val_accuracy: 0.6864 - 395s/epoch - 1s/step\n",
      "Epoch 10/10\n",
      "383/383 - 395s - loss: 0.0215 - accuracy: 0.9935 - val_loss: 3.3539 - val_accuracy: 0.6351 - 395s/epoch - 1s/step\n",
      "Test loss: 0.9892070889472961, Test accuracy 0.8823529481887817\n"
     ]
    }
   ],
   "source": [
    "lr = 0.0001\n",
    "\n",
    "model_customCNN2 = Sequential()\n",
    "model_customCNN2.add(Conv2D(\n",
    "        filters=256,\n",
    "        kernel_size=(6, 6),\n",
    "        activation=\"relu\",\n",
    "        padding=\"same\",\n",
    "        input_shape=(img_height_eyes, img_width_eyes, 3),\n",
    "    ))\n",
    "model_customCNN2.add(MaxPool2D(pool_size=(4, 4), strides=4))\n",
    "\n",
    "model_customCNN2.add(Conv2D(filters=512, kernel_size=(9, 9), activation=\"relu\", padding=\"same\"))\n",
    "model_customCNN2.add(MaxPool2D(pool_size=(4, 4), strides=4))\n",
    "model_customCNN2.add(Conv2D(filters=512, kernel_size=(9, 9), activation=\"relu\", padding=\"same\"))\n",
    "model_customCNN2.add(MaxPool2D(pool_size=(4, 4), strides=4))\n",
    "\n",
    "model_customCNN2.add(Flatten())\n",
    "model_customCNN2.add(Dense(512, activation=\"relu\"))\n",
    "model_customCNN2.add(Dense(units=2, activation=\"softmax\"))\n",
    "\n",
    "#model_customCNN2.summary()\n",
    "\n",
    "model_customCNN2.compile(\n",
    "    optimizer=Adam(learning_rate=lr),\n",
    "    loss=\"categorical_crossentropy\",\n",
    "    metrics=[\"accuracy\"],\n",
    ")\n",
    "model_customCNN2.fit(x=train_batches, validation_data=valid_batches, epochs=10, verbose=2)\n",
    "\n",
    "# Save the weights\n",
    "model_customCNN2.save_weights(\"eyes_weights.h5\")\n",
    "score = model_customCNN2.evaluate(test_batches, verbose=0)\n",
    "\n",
    "print(\"Test loss: {}, Test accuracy {}\".format(score[0], score[1]))"
   ]
  },
  {
   "cell_type": "code",
   "execution_count": 27,
   "metadata": {},
   "outputs": [
    {
     "name": "stdout",
     "output_type": "stream",
     "text": [
      "Sensitivity: 0.8888888888888888\n",
      "Specificity: 0.875\n",
      "Confusion matrix, without normalization\n",
      "[[7 1]\n",
      " [1 8]]\n"
     ]
    },
    {
     "data": {
      "image/png": "[encoded data removed]",
      "text/plain": [
       "<Figure size 640x480 with 2 Axes>"
      ]
     },
     "metadata": {},
     "output_type": "display_data"
    },
    {
     "name": "stdout",
     "output_type": "stream",
     "text": [
      "Test loss: 0.9892070889472961, Test accuracy 0.8823529481887817\n"
     ]
    }
   ],
   "source": [
    "predictions = model_customCNN2.predict(x=test_batches, verbose=0)\n",
    "\n",
    "np.round(predictions)\n",
    "\n",
    "cm = confusion_matrix(\n",
    "    y_true=test_batches.classes, y_pred=np.argmax(predictions, axis=-1)\n",
    ")\n",
    "\n",
    "# Extract true positives, false positives, true negatives, and false negatives\n",
    "tn, fp, fn, tp = cm.ravel()\n",
    "\n",
    "# Calculate sensitivity and specificity\n",
    "sensitivity = tp / (tp + fn)\n",
    "specificity = tn / (tn + fp)\n",
    "\n",
    "print(\"Sensitivity:\", sensitivity)\n",
    "print(\"Specificity:\", specificity)\n",
    "\n",
    "cm_plot_labels = [\"normal\", \"stroke\"]\n",
    "plot_confusion_matrix(cm=cm, classes=cm_plot_labels, title=\"Confusion Matrix\")\n",
    "\n",
    "print(\"Test loss: {}, Test accuracy {}\".format(score[0], score[1]))"
   ]
  },
  {
   "attachments": {},
   "cell_type": "markdown",
   "metadata": {},
   "source": [
    "# Pretrained Residual NN model (ResNet)"
   ]
  },
  {
   "cell_type": "code",
   "execution_count": 7,
   "metadata": {},
   "outputs": [
    {
     "name": "stdout",
     "output_type": "stream",
     "text": [
      "Learning rate: 0.0001\n",
      "Layers: 1\n"
     ]
    },
    {
     "name": "stderr",
     "output_type": "stream",
     "text": [
      "c:\\Users\\AndreiBorg\\anaconda3\\envs\\tf\\lib\\site-packages\\keras\\optimizers\\optimizer_v2\\adam.py:114: UserWarning: The `lr` argument is deprecated, use `learning_rate` instead.\n",
      "  super().__init__(name, **kwargs)\n",
      "c:\\Users\\AndreiBorg\\anaconda3\\envs\\tf\\lib\\site-packages\\keras\\preprocessing\\image.py:1863: UserWarning: This ImageDataGenerator specifies `featurewise_center`, but it hasn't been fit on any training data. Fit it first by calling `.fit(numpy_data)`.\n",
      "  warnings.warn(\n"
     ]
    },
    {
     "name": "stdout",
     "output_type": "stream",
     "text": [
      "Epoch 1/5\n",
      "443/443 - 256s - loss: 0.3145 - accuracy: 0.8728 - val_loss: 0.3132 - val_accuracy: 0.9333 - 256s/epoch - 578ms/step\n",
      "Epoch 2/5\n",
      "443/443 - 207s - loss: 0.1862 - accuracy: 0.9338 - val_loss: 0.2644 - val_accuracy: 0.9350 - 207s/epoch - 467ms/step\n",
      "Epoch 3/5\n",
      "443/443 - 310s - loss: 0.1310 - accuracy: 0.9550 - val_loss: 0.2361 - val_accuracy: 0.9265 - 310s/epoch - 701ms/step\n",
      "Epoch 4/5\n",
      "443/443 - 224s - loss: 0.0930 - accuracy: 0.9731 - val_loss: 0.2455 - val_accuracy: 0.9402 - 224s/epoch - 505ms/step\n",
      "Epoch 5/5\n",
      "443/443 - 312s - loss: 0.0722 - accuracy: 0.9796 - val_loss: 0.2160 - val_accuracy: 0.9350 - 312s/epoch - 703ms/step\n",
      "Test loss: 0.7147079110145569, Test accuracy 0.7843137383460999\n",
      "Learning rate: 0.0001\n",
      "Layers: 2\n",
      "Epoch 1/5\n",
      "443/443 - 383s - loss: 0.2982 - accuracy: 0.8787 - val_loss: 0.3065 - val_accuracy: 0.9368 - 383s/epoch - 866ms/step\n",
      "Epoch 2/5\n",
      "443/443 - 220s - loss: 0.1528 - accuracy: 0.9457 - val_loss: 0.2367 - val_accuracy: 0.9248 - 220s/epoch - 498ms/step\n",
      "Epoch 3/5\n",
      "443/443 - 181s - loss: 0.0930 - accuracy: 0.9695 - val_loss: 0.2777 - val_accuracy: 0.9385 - 181s/epoch - 409ms/step\n",
      "Epoch 4/5\n",
      "443/443 - 182s - loss: 0.0541 - accuracy: 0.9870 - val_loss: 0.2588 - val_accuracy: 0.9402 - 182s/epoch - 411ms/step\n",
      "Epoch 5/5\n",
      "443/443 - 182s - loss: 0.0410 - accuracy: 0.9912 - val_loss: 0.2197 - val_accuracy: 0.9402 - 182s/epoch - 411ms/step\n",
      "Test loss: 0.9278283715248108, Test accuracy 0.8039215803146362\n",
      "Learning rate: 0.001\n",
      "Layers: 1\n",
      "Epoch 1/5\n",
      "443/443 - 188s - loss: 0.2636 - accuracy: 0.8872 - val_loss: 0.3538 - val_accuracy: 0.9419 - 188s/epoch - 425ms/step\n",
      "Epoch 2/5\n",
      "443/443 - 180s - loss: 0.1013 - accuracy: 0.9618 - val_loss: 0.2304 - val_accuracy: 0.9350 - 180s/epoch - 405ms/step\n",
      "Epoch 3/5\n",
      "443/443 - 180s - loss: 0.0435 - accuracy: 0.9867 - val_loss: 0.2409 - val_accuracy: 0.9043 - 180s/epoch - 405ms/step\n",
      "Epoch 4/5\n",
      "443/443 - 179s - loss: 0.0318 - accuracy: 0.9893 - val_loss: 0.3728 - val_accuracy: 0.9282 - 179s/epoch - 403ms/step\n",
      "Epoch 5/5\n",
      "443/443 - 179s - loss: 0.1098 - accuracy: 0.9666 - val_loss: 0.3129 - val_accuracy: 0.9368 - 179s/epoch - 403ms/step\n",
      "Test loss: 0.7998781204223633, Test accuracy 0.8235294222831726\n",
      "Learning rate: 0.001\n",
      "Layers: 2\n",
      "Epoch 1/5\n",
      "443/443 - 189s - loss: 0.2799 - accuracy: 0.8818 - val_loss: 0.2854 - val_accuracy: 0.8991 - 189s/epoch - 427ms/step\n",
      "Epoch 2/5\n",
      "443/443 - 185s - loss: 0.0909 - accuracy: 0.9652 - val_loss: 0.3480 - val_accuracy: 0.9385 - 185s/epoch - 417ms/step\n",
      "Epoch 3/5\n",
      "443/443 - 185s - loss: 0.0924 - accuracy: 0.9669 - val_loss: 0.2721 - val_accuracy: 0.9162 - 185s/epoch - 417ms/step\n",
      "Epoch 4/5\n",
      "443/443 - 185s - loss: 0.0365 - accuracy: 0.9870 - val_loss: 0.3756 - val_accuracy: 0.9231 - 185s/epoch - 417ms/step\n",
      "Epoch 5/5\n",
      "443/443 - 184s - loss: 0.0154 - accuracy: 0.9963 - val_loss: 0.3684 - val_accuracy: 0.9368 - 184s/epoch - 416ms/step\n",
      "Test loss: 1.318195104598999, Test accuracy 0.8039215803146362\n",
      "[[0.7147079110145569, 0.7843137383460999], [0.9278283715248108, 0.8039215803146362], [0.7998781204223633, 0.8235294222831726], [1.318195104598999, 0.8039215803146362]]\n"
     ]
    }
   ],
   "source": [
    "scores_resnet = []\n",
    "models_resnet = []\n",
    "\n",
    "for lr in param_grid[\"learning_rate\"]:\n",
    "    for layers in param_grid[\"hidden_layers\"]:\n",
    "        print(\"Learning rate:\", lr)\n",
    "        print(\"Layers:\", layers)\n",
    "    \n",
    "        # Create the base ResNet152 model\n",
    "        base_model = ResNet152(weights=\"imagenet\", include_top=False, input_shape=input_shape_mouth)\n",
    "    \n",
    "        # Add a global average pooling layer and a dense layer with softmax activation for classification\n",
    "        x = base_model.output\n",
    "        x = GlobalAveragePooling2D()(x)\n",
    "        for i in range(layers):\n",
    "            x = Dense(128, activation=\"relu\")(x)\n",
    "        predictions = Dense(2, activation=\"softmax\")(x)\n",
    "    \n",
    "        # Define the model to be trained with the ResNet152 base and the classification layers added\n",
    "        model_resnet = Model(inputs=base_model.input, outputs=predictions)\n",
    "    \n",
    "        # Freeze the base ResNet152 layers so they are not updated during training\n",
    "        for layer in base_model.layers:\n",
    "            layer.trainable = False\n",
    "    \n",
    "        # Compile the model\n",
    "        model_resnet.compile(\n",
    "            optimizer=Adam(lr=lr), loss=\"categorical_crossentropy\", metrics=[\"accuracy\"]\n",
    "        )\n",
    "    \n",
    "        model_resnet.fit(x=train_batches, validation_data=valid_batches, epochs=5, verbose=2)\n",
    "        score = model_resnet.evaluate(test_batches, verbose=0)\n",
    "    \n",
    "        print(\"Test loss: {}, Test accuracy {}\".format(score[0], score[1]))\n",
    "        \n",
    "        scores_resnet.append(score)\n",
    "        models_resnet.append(model_resnet)\n",
    "\n",
    "print(scores_resnet)\n"
   ]
  },
  {
   "cell_type": "code",
   "execution_count": 8,
   "metadata": {},
   "outputs": [
    {
     "name": "stdout",
     "output_type": "stream",
     "text": [
      "Test loss: 0.7998781204223633, Test accuracy: 0.8235294222831726\n",
      "Sensitivity: 0.8846153846153846\n",
      "Specificity: 0.76\n",
      "Confusion matrix, without normalization\n",
      "[[19  6]\n",
      " [ 3 23]]\n"
     ]
    },
    {
     "data": {
      "image/png": "[encoded data removed]",
      "text/plain": [
       "<Figure size 640x480 with 2 Axes>"
      ]
     },
     "metadata": {},
     "output_type": "display_data"
    }
   ],
   "source": [
    "score = models_resnet[2].evaluate(test_batches, verbose=0)\n",
    "\n",
    "print(\"Test loss: {}, Test accuracy: {}\".format(score[0], score[1]))\n",
    "\n",
    "# Pick the best model, index 2 in this case\n",
    "predictions = models_resnet[2].predict(x=test_batches, verbose=0)\n",
    "\n",
    "np.round(predictions)\n",
    "\n",
    "cm = confusion_matrix(\n",
    "    y_true=test_batches.classes, y_pred=np.argmax(predictions, axis=-1)\n",
    ")\n",
    "\n",
    "# Extract true positives, false positives, true negatives, and false negatives\n",
    "tn, fp, fn, tp = cm.ravel()\n",
    "\n",
    "# Calculate sensitivity and specificity\n",
    "sensitivity = tp / (tp + fn)\n",
    "specificity = tn / (tn + fp)\n",
    "\n",
    "print(\"Sensitivity:\", sensitivity)\n",
    "print(\"Specificity:\", specificity)\n",
    "\n",
    "cm_plot_labels = [\"normal\", \"stroke\"]\n",
    "plot_confusion_matrix(cm=cm, classes=cm_plot_labels, title=\"Confusion Matrix\")"
   ]
  }
 ],
 "metadata": {
  "kernelspec": {
   "display_name": "tf",
   "language": "python",
   "name": "python3"
  },
  "language_info": {
   "codemirror_mode": {
    "name": "ipython",
    "version": 3
   },
   "file_extension": ".py",
   "mimetype": "text/x-python",
   "name": "python",
   "nbconvert_exporter": "python",
   "pygments_lexer": "ipython3",
   "version": "3.8.16"
  },
  "orig_nbformat": 4
 },
 "nbformat": 4,
 "nbformat_minor": 2
}
